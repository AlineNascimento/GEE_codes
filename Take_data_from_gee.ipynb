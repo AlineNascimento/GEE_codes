{
  "nbformat": 4,
  "nbformat_minor": 0,
  "metadata": {
    "colab": {
      "private_outputs": true,
      "provenance": [],
      "collapsed_sections": [
        "drEALl8zR-Sh",
        "C35CSoue21tr",
        "IADMBgMw1R6S",
        "V7ItGnKsFOZg",
        "sLgQV4zmMoXM",
        "_GNMkQhbjtW1",
        "fWaU-JSQuRDL",
        "MegsppPU0844",
        "F5-4Y7H02uDW",
        "a6P7dqMPGHYL",
        "tLRnPAmoNKW-",
        "btaSbiaNlCED",
        "sr868Rk9bRIA",
        "B3gKuzztY-dk",
        "08i3HIBCi1Q9"
      ],
      "mount_file_id": "1PM5xyH7ZPO1Btj0IRaNMNASMVwh69voZ",
      "authorship_tag": "ABX9TyOXJEOxS04vU1SGgXLcoR6A",
      "include_colab_link": true
    },
    "kernelspec": {
      "name": "python3",
      "display_name": "Python 3"
    },
    "language_info": {
      "name": "python"
    }
  },
  "cells": [
    {
      "cell_type": "markdown",
      "metadata": {
        "id": "view-in-github",
        "colab_type": "text"
      },
      "source": [
        "<a href=\"https://colab.research.google.com/github/AlineNascimento/GEE_codes/blob/main/Take_data_from_gee.ipynb\" target=\"_parent\"><img src=\"https://colab.research.google.com/assets/colab-badge.svg\" alt=\"Open In Colab\"/></a>"
      ]
    },
    {
      "cell_type": "markdown",
      "source": [
        "# Take Data from GEE\n",
        "# Criado por: Aline Andrade do Nascimento\n",
        "# alinephysics@gmail.com"
      ],
      "metadata": {
        "id": "k4DeEmYVRat0"
      }
    },
    {
      "cell_type": "markdown",
      "source": [
        "#Importação da bibliotecas"
      ],
      "metadata": {
        "id": "drEALl8zR-Sh"
      }
    },
    {
      "cell_type": "code",
      "execution_count": null,
      "metadata": {
        "id": "S5tqWPV7np_J"
      },
      "outputs": [],
      "source": [
        "from google.colab import drive\n",
        "drive.mount('/content/drive')"
      ]
    },
    {
      "cell_type": "code",
      "source": [
        "pip install pandas fiona shapely pyproj rtree"
      ],
      "metadata": {
        "id": "cZD2H-Kin-4q"
      },
      "execution_count": null,
      "outputs": []
    },
    {
      "cell_type": "code",
      "source": [
        "pip install geopandas"
      ],
      "metadata": {
        "id": "eflZnk8_n-zc"
      },
      "execution_count": null,
      "outputs": []
    },
    {
      "cell_type": "code",
      "source": [
        "pip install netCDF4"
      ],
      "metadata": {
        "id": "WSSYdMMX5pMm"
      },
      "execution_count": null,
      "outputs": []
    },
    {
      "cell_type": "code",
      "source": [
        "# Libraries to open 'netcdf' file\n",
        "import netCDF4 as netcdf\n",
        "import xarray\n",
        "\n",
        "# To pre-process dataframe and use in visualization\n",
        "import numpy as np\n",
        "import pandas as pd\n",
        "import geopandas as gpd\n",
        "import shapely\n",
        "from shapely.geometry import Point\n",
        "import ast"
      ],
      "metadata": {
        "id": "qyZk04Zcn-pf"
      },
      "execution_count": null,
      "outputs": []
    },
    {
      "cell_type": "markdown",
      "source": [
        "#  Conectando o GEE com outros serviços do Google\n",
        "A API do Python do Earth Engine e as ferramentas de linha de comando podem ser instaladas usando a ferramenta de instalação do pacote pip do Python."
      ],
      "metadata": {
        "id": "C35CSoue21tr"
      }
    },
    {
      "cell_type": "code",
      "execution_count": null,
      "metadata": {
        "id": "vXbpanX4jdHC"
      },
      "outputs": [],
      "source": [
        "!pip install earthengine-api"
      ]
    },
    {
      "cell_type": "code",
      "source": [
        "\n",
        "!earthengine authenticate"
      ],
      "metadata": {
        "id": "ia3WPhQF2-3t"
      },
      "execution_count": null,
      "outputs": []
    },
    {
      "cell_type": "code",
      "source": [
        "from google.colab import auth\n",
        "auth.authenticate_user()"
      ],
      "metadata": {
        "id": "x_c1csAt4BsK"
      },
      "execution_count": null,
      "outputs": []
    },
    {
      "cell_type": "code",
      "source": [
        "# Import the Earth Engine API and initialize it.\n",
        "import ee\n",
        "ee.Initialize()"
      ],
      "metadata": {
        "id": "nPz0Ktha4CsG"
      },
      "execution_count": null,
      "outputs": []
    },
    {
      "cell_type": "code",
      "source": [
        "import folium\n",
        "token = '4/1AX4XfWif2ASmQd28DqQmuR9blSSDRQqVHJ8d3Jri9TIPA4h832W7H1dWeKY'\n",
        "# Define the URL format used for Earth Engine generated map tiles.\n",
        "EE_TILES = 'https://earthengine.googleapis.com/map/{mapid}/{{z}}/{{x}}/{{y}}?token={token}'\n",
        "\n",
        "print('Folium version: ' + folium.__version__)"
      ],
      "metadata": {
        "id": "iFzZnNfJ4LuD"
      },
      "execution_count": null,
      "outputs": []
    },
    {
      "cell_type": "code",
      "source": [
        "pip install geemap"
      ],
      "metadata": {
        "id": "q6AY3Qm72pyy"
      },
      "execution_count": null,
      "outputs": []
    },
    {
      "cell_type": "code",
      "source": [
        "import json\n",
        "import geemap\n",
        "import geemap.colormaps as cm\n",
        "import altair as alt  ##biblioteca de visualização(gráficos)\n",
        "import folium"
      ],
      "metadata": {
        "id": "NJR8K6wx2vtU"
      },
      "execution_count": null,
      "outputs": []
    },
    {
      "cell_type": "code",
      "execution_count": null,
      "metadata": {
        "id": "WdSGJyzBf0OS"
      },
      "outputs": [],
      "source": [
        "#@title Mapdisplay: Display GEE objects using folium.\n",
        "def Mapdisplay(center, dicc, Tiles=\"OpensTreetMap\",zoom_start=10):\n",
        "    '''\n",
        "    :param center: Center of the map (Latitude and Longitude).\n",
        "    :param dicc: Earth Engine Geometries or Tiles dictionary\n",
        "    :param Tiles: Mapbox Bright,Mapbox Control Room,Stamen Terrain,Stamen Toner,stamenwatercolor,cartodbpositron.\n",
        "    :zoom_start: Initial zoom level for the map.\n",
        "    :return: A folium.Map object.\n",
        "    '''\n",
        "    mapViz = folium.Map(location=center,tiles=Tiles, zoom_start=zoom_start)\n",
        "    for k,v in dicc.items():\n",
        "      if ee.image.Image in [type(x) for x in v.values()]:\n",
        "        folium.TileLayer(\n",
        "            tiles = v[\"tile_fetcher\"].url_format,\n",
        "            attr  = 'Google Earth Engine',\n",
        "            overlay =True,\n",
        "            name  = k\n",
        "          ).add_to(mapViz)\n",
        "      else:\n",
        "        folium.GeoJson(\n",
        "        data = v,\n",
        "        name = k\n",
        "          ).add_to(mapViz)\n",
        "    mapViz.add_child(folium.LayerControl())\n",
        "    return mapViz"
      ]
    },
    {
      "cell_type": "markdown",
      "metadata": {
        "id": "V7ItGnKsFOZg"
      },
      "source": [
        "# 1. Visão geral do redutor\n",
        "\n",
        "Os redutores são a maneira de agregar dados ao longo do tempo, espaço, bandas, matrizes e outras estruturas de dados no Earth Engine. A classe `ee.Reducer` especifica como os dados são agregados. Os redutores nesta classe podem especificar uma estatística simples a ser usada para a agregação (por exemplo, mínimo, máximo, média, mediana, desvio padrão etc.), ou um resumo mais complexo dos dados de entrada (por exemplo, histograma, regressão linear, lista) . As reduções podem ocorrer ao longo de:\n",
        "\n",
        "- **time**  = `imageCollection.reduce()`\n",
        "- **space** = `image.reduceRegion()` and `image.reduceNeighborhood()`**\n",
        "- **bands**  = `image.reduce()`,\n",
        "\n",
        "Ou o espaço de atributo de um `FeatureCollection` (`featureCollection.reduceColumns()` ou `FeatureCollection` métodos que começam com`aggregate_`).\n",
        "\n",
        "## Os redutores possuem entradas e saídas\n",
        "\n",
        "Os redutores pegam um conjunto de dados de entrada e produzem uma única saída. Quando um único redutor de entrada é aplicado a uma imagem multibanda, o Earth Engine replica automaticamente o redutor e o aplica separadamente a cada banda. Como resultado, a imagem de saída tem o mesmo número de bandas que a imagem de entrada; cada banda na saída é a redução de pixels da banda correspondente nos dados de entrada. Alguns redutores usam tuplas de conjuntos de dados de entrada. Esses redutores não serão replicados automaticamente para cada banda. Por exemplo, `ee.Reducer.LinearRegression()` leva vários conjuntos de dados de previsão (representando variáveis ​​independentes na regressão) em uma ordem específica (consulte a seção Redutores de regressão abaixo).\n",
        "\n",
        "Alguns redutores produzem várias saídas, por exemplo `ee.Reducer.minMax()`, `ee.Reducer.histogram()` or `ee.Reducer.toList()`. For example:"
      ]
    },
    {
      "cell_type": "code",
      "source": [
        "geometry = ee.FeatureCollection(\"projects/ee-alinephysics/assets/mapbiomas/RegiaoAmazonia\")"
      ],
      "metadata": {
        "id": "cx7SR3B06AuY"
      },
      "execution_count": null,
      "outputs": []
    },
    {
      "cell_type": "code",
      "source": [
        "road = geometry.limit(50)\n",
        "centroid = road.geometry().centroid().getInfo()['coordinates']\n",
        "centroid.reverse()\n",
        "Mapdisplay(centroid,{'road':road.getInfo()},zoom_start=5)"
      ],
      "metadata": {
        "id": "RYwLeS1z6WY_"
      },
      "execution_count": null,
      "outputs": []
    },
    {
      "cell_type": "code",
      "execution_count": null,
      "metadata": {
        "id": "e9ejEh7qEke0"
      },
      "outputs": [],
      "source": [
        "# Load and filter the Sentinel-2 image collection.\n",
        "collection = ee.Image('projects/mapbiomas-workspace/public/collection6/mapbiomas_collection60_integration_v1')\n",
        "\n",
        "# Reduce the collection.\n",
        "extrema = collection.reduce(ee.Reducer.mean())"
      ]
    },
    {
      "cell_type": "code",
      "source": [
        "geometry.getInfo()"
      ],
      "metadata": {
        "id": "UBbyw3Yw7p0E"
      },
      "execution_count": null,
      "outputs": []
    },
    {
      "cell_type": "code",
      "source": [
        "center =  [-2.145746, -59.004845]\n",
        "vizParams = {\n",
        "    'bands': 'classification_2019'\n",
        "        }\n",
        "\n",
        "dicc =  {'mapbiomas mosaic': collection.getMapId(vizParams)}\n",
        "\n",
        "Mapdisplay(center,dicc,zoom_start=4)"
      ],
      "metadata": {
        "id": "PtqRlaVxkSuy"
      },
      "execution_count": null,
      "outputs": []
    },
    {
      "cell_type": "markdown",
      "metadata": {
        "id": "uqPsM4E4Jlxm"
      },
      "source": [
        "Isso produzirá uma saída com o dobro do número de bandas das entradas, onde os nomes das bandas na saída têm '_min' ou '_max' anexados ao nome da banda.\n",
        "\n",
        " O tipo de saída deve corresponder ao cálculo. Por exemplo, um redutor aplicado a uma ImageCollection tem uma saída de imagem. Como a saída é interpretada como um valor de pixel, você deve usar redutores com uma saída numérica para reduzir um ImageCollection (reducers like `toList()` or `histogram()` won’t work).\n",
        "\n",
        "## Redutores usam entradas ponderadas\n",
        "\n",
        "Por padrão, as reduções sobre os valores de pixel são ponderadas por sua máscara, embora esse comportamento possa ser alterado (consulte a seção Ponderação abaixo). Pixels com máscara igual a 0 não serão utilizados na redução.\n",
        "\n",
        "## Combinando redutores\n",
        "\n",
        "Se sua intenção é aplicar vários redutores às mesmas entradas, é uma boa prática `combine()` os redutores para eficiência. Especificamente, chamar `combine()` em um redutor com `sharedInputs` definido como `true` resultará em apenas uma única passagem pelos dados. Por exemplo, para calcular a média e o desvio padrão dos pixels em uma imagem, você pode usar algo assim:"
      ]
    },
    {
      "cell_type": "code",
      "execution_count": null,
      "metadata": {
        "id": "WjEvXJUw67-N"
      },
      "outputs": [],
      "source": [
        "from pprint import pprint\n",
        "\n",
        "# Load a Landsat 8 image.\n",
        "image = ee.Image('projects/mapbiomas-workspace/public/collection6/mapbiomas_collection60_integration_v1')\n",
        "\n",
        "# Combine the mean and standard deviation reducers.\n",
        "reducers = ee.Reducer.median()\n",
        "\n",
        "# Use the combined reducer to get the mean and SD of the image.\n",
        "stats = image.reduceRegion(\n",
        "  reducer=reducers,\n",
        "  bestEffort=True,\n",
        ")\n",
        "\n",
        "# Display the dictionary of band means and SDs.\n",
        "pprint(stats.getInfo())"
      ]
    },
    {
      "cell_type": "markdown",
      "metadata": {
        "id": "BzB0gON0Mgsj"
      },
      "source": [
        "Na saída, observe que os nomes dos redutores foram anexados aos nomes das entradas para distinguir as saídas do redutor. Esse comportamento também se aplica às saídas de imagem, que terão o nome do redutor anexado aos nomes das bandas de saída."
      ]
    },
    {
      "cell_type": "markdown",
      "metadata": {
        "id": "sLgQV4zmMoXM"
      },
      "source": [
        "# 2. Reduções na coleção de imagens\n",
        "\n",
        "Considere o exemplo da necessidade de obter a mediana sobre uma série temporal de imagens representadas por uma `ImageCollection`. Para reduzir um `ImageCollection`, use `imageCollection.reduce()`. Isso reduz a coleção de imagens a uma imagem individual, conforme ilustrado na Figura 1. Especificamente, a saída é calculada pixel a pixel, de modo que cada pixel na saída seja composto pelo valor médio de todas as imagens da coleção naquele local. Para obter outras estatísticas, como média, soma, variância, um percentil arbitrário, etc., o redutor apropriado deve ser selecionado e aplicado. Para estatísticas básicas como min, max, mean, etc., `ImageCollection` tem métodos de atalho como `min()`, `max()`, `mean()`, etc. Eles funcionam exatamente da mesma maneira que chamar reduce (), exceto os nomes de bandas resultantes não terão o nome do redutor anexado.\n",
        "\n",
        "\n",
        "<center>\n",
        "<image src = \"https://developers.google.com/earth-engine/images/Reduce_ImageCollection.png\">  \n",
        "</center>\n",
        "\n",
        "<center>\n",
        "  Figure 1. Illustration of an ee.Reducer applied to an ImageCollection."
      ]
    },
    {
      "cell_type": "code",
      "execution_count": null,
      "metadata": {
        "id": "uT1SchrQNMOM"
      },
      "outputs": [],
      "source": [
        "# Load an image collection, filtered so it's not too much data.\n",
        "collection = ee.ImageCollection('LANDSAT/LT05/C01/T1')\\\n",
        "               .filterDate('2008-01-01', '2008-12-31')\\\n",
        "               .filter(ee.Filter.eq('WRS_PATH', 44))\\\n",
        "               .filter(ee.Filter.eq('WRS_ROW', 34))\n",
        "\n",
        "# Compute the median in each band, each pixel.\n",
        "# Band names are B1_median, B2_median, etc.\n",
        "median = collection.reduce(ee.Reducer.median())\n",
        "\n",
        "# The output is an Image.  Add it to the map.\n",
        "vis_param = {'bands': ['B4_median', 'B3_median', 'B2_median'], 'gamma': 1.6}\n",
        "median_tk = median.getMapId(vis_param)\n",
        "\n",
        "center = [37.7924, -122.3355]\n",
        "Mapdisplay(center,{'Landsat 5':median_tk},zoom_start=9)"
      ]
    },
    {
      "cell_type": "markdown",
      "metadata": {
        "id": "hFG8e10dOkWu"
      },
      "source": [
        "This returns a multi-band Image, each pixel of which is the median of all unmasked pixels in the ImageCollection at that pixel location. Specifically, the reducer has been repeated for each band of the input imagery. Note that the band names have the name of the reducer appended: ‘B1_median’, ‘B2_median’, etc.\n"
      ]
    },
    {
      "cell_type": "markdown",
      "metadata": {
        "id": "_GNMkQhbjtW1"
      },
      "source": [
        "# 3. Reduções de imagem\n",
        "\n",
        "Para reduzir uma `Image`, use `image.reduce()`. Reduzir uma imagem funciona de maneira análoga a `imageCollection.reduce()`, exceto que as bandas da imagem são inseridas no redutor em vez das imagens na coleção. A saída também é uma imagem com número de bandas igual ao número de saídas do redutor. Por exemplo:\n",
        "\n",
        "\n"
      ]
    },
    {
      "cell_type": "code",
      "source": [
        "import time"
      ],
      "metadata": {
        "id": "4a2CHaxyc4-O"
      },
      "execution_count": null,
      "outputs": []
    },
    {
      "cell_type": "code",
      "source": [
        "image = ee.Image('projects/mapbiomas-workspace/public/collection6/mapbiomas_collection60_integration_v1')\\\n",
        "          .select(['classification_2019'])\n",
        "\n",
        "# Reduce the image to get a one-band maximum value image.\n",
        "clipValue = image.clip(gm)\n",
        "\n",
        "# Display the result\n",
        "vis_param = {'max': 13000, 'gamma': 1.6}\n",
        "center =  [-2.145746, -59.004845]\n",
        "\n",
        "clipValue_tk = clipValue.getMapId()\n",
        "Mapdisplay(center,{'Landsat 5':clipValue_tk},zoom_start=4)\n",
        "\n",
        "# Export.table.toDrive({\n",
        "#     collection: reduced,\n",
        "#     description: 'Mapbiomas',\n",
        "#     folder: 'Mapbiomas',\n",
        "#     fileNamePrefix: 'Mapbiomas-DadosOCO2-20-31082019',\n",
        "#     fileFormat: 'CSV'\n",
        "# })\n",
        "\n",
        "# Export the FeatureCollection to a KML file.\n",
        "task = ee.batch.Export.table.toDrive(**{\n",
        "  'collection': clipValue,\n",
        "  'folder': \"TESTE_HOJE\",\n",
        "  'description':'vectorsToDriveExample',\n",
        "  'fileNamePrefix': 'Mapbiomas-DadosOCO2-20-31082019',\n",
        "  'fileFormat': 'CSV'\n",
        "})\n",
        "task.start()\n",
        "\n",
        "while task.active():\n",
        "  print('Polling for task (id: {}).'.format(task.id))\n",
        "  time.sleep(5)"
      ],
      "metadata": {
        "id": "-MlJKZJOaN7T"
      },
      "execution_count": null,
      "outputs": []
    },
    {
      "cell_type": "code",
      "source": [
        "print(clipValue)"
      ],
      "metadata": {
        "id": "W_MtK0HjaqVz"
      },
      "execution_count": null,
      "outputs": []
    },
    {
      "cell_type": "code",
      "execution_count": null,
      "metadata": {
        "id": "E71SF93vjz8X"
      },
      "outputs": [],
      "source": [
        "# Load an image and select some bands of interest.\n",
        "image = ee.Image('projects/mapbiomas-workspace/public/collection6/mapbiomas_collection60_integration_v1')\\\n",
        "          .select(['classification_2019'])\n",
        "\n",
        "# Reduce the image to get a one-band maximum value image.\n",
        "maxValue = image.reduce(ee.Reducer.max())\n",
        "\n",
        "# Display the result\n",
        "vis_param = {'max': 13000, 'gamma': 1.6}\n",
        "center =  [-2.145746, -59.004845]\n",
        "\n",
        "maxValue_tk = maxValue.getMapId()\n",
        "Mapdisplay(center,{'Landsat 5':maxValue_tk},zoom_start=4)"
      ]
    },
    {
      "cell_type": "markdown",
      "metadata": {
        "id": "fWaU-JSQuRDL"
      },
      "source": [
        "# 4. Estatísticas de uma região de imagem\n",
        "\n",
        "Suponha que haja necessidade de calcular estatísticas sobre uma região (ou regiões) de um `ee.Image`. Para obter estatísticas de valores de pixel em uma região de imagem, use `image.reduceRegion()`. Isso reduz todos os pixels na(s) região(ões) a uma estatística ou outra representação compacta dos dados de pixel na região (por exemplo, histograma). A região é representada como uma `Geometria`, que pode ser um polígono, contendo muitos pixels, ou pode ser um único ponto, caso em que haverá apenas um pixel na região. Em ambos os casos, conforme ilustrado na Figura 2, a saída é uma estatística derivada dos pixels na região.\n",
        "\n",
        "<center>\n",
        "<image src=\" https://developers.google.com/earth-engine/images/Reduce_region_diagram.png\" >\n",
        "</center>\n",
        "  \n",
        "\n",
        "<center>\n",
        "  Figure 2. An illustration of an `ee.Reducer` applied to an image and a region.\n",
        "</center>\n",
        "  \n",
        "  \n",
        "  "
      ]
    },
    {
      "cell_type": "code",
      "execution_count": null,
      "metadata": {
        "id": "L4-1dVMou92O"
      },
      "outputs": [],
      "source": [
        "# Load input imagery: Landsat 7 5-year composite.\n",
        "image = ee.Image('projects/mapbiomas-workspace/public/collection6/mapbiomas_collection60_integration_v1')\\\n",
        "        .select(['classification_2019'])\n",
        "\n",
        "# Load an input region: Sierra Nevada mixed conifer forest.\n",
        "region = ee.Feature(ee.FeatureCollection(\n",
        "  'projects/ee-alinephysics/assets/amaz190823')\n",
        "  .first())\n",
        "gm = ee.FeatureCollection(\n",
        "  'projects/ee-alinephysics/assets/amaz190823')\n",
        "\n",
        "# Reduce the region. The region parameter is the Feature geometry.\n",
        "meanDictionary = image.reduceRegion(**{\n",
        "  'reducer': ee.Reducer.median(),\n",
        "  'geometry': gm,\n",
        "  'scale': 30,\n",
        "  'maxPixels': 1e9\n",
        "})\n",
        "\n",
        "# The result is a Dictionary.  Print it.\n",
        "pprint(meanDictionary.getInfo())"
      ]
    },
    {
      "cell_type": "markdown",
      "metadata": {
        "id": "KSqQ91Fqxatx"
      },
      "source": [
        "Observe que neste exemplo a redução é especificada fornecendo o `reducer` (`ee.Reducer.mean()`), a `geometry` (`region.geometry()`), a `scale` (30 metros) e `maxPixels` para o número máximo de pixels a serem inseridos no redutor. Uma escala deve sempre ser especificada nas chamadas de reduceRegion(). Isso ocorre porque em fluxos de processamento complexos, que podem envolver dados de diferentes fontes com diferentes escalas, a escala da saída não será determinada de forma inequívoca a partir das entradas. Nesse c…e, que geralmente produz resultados insatisfatórios. Consulte [esta página](https://developers.google.com/earth-engine/scale) para obter mais informações sobre como o Earth Engine lida com a escala. Há duas maneiras de definir a escala: especificando o parâmetro de escala ou especificando uma transformação CRS e CRS. (Consulte o [glossário](https://developers.google.com/earth-engine/glossary) para obter mais informações sobre CRSs e transformações de CRS). Por exemplo, a redução meanDictionary (acima) é equivalente ao seguinte:"
      ]
    },
    {
      "cell_type": "code",
      "execution_count": null,
      "metadata": {
        "id": "zmF-nUsCxBdp"
      },
      "outputs": [],
      "source": [
        "# As an alternative to specifying scale, specify a CRS and a CRS transform.\n",
        "# Make this array by constructing a 4326 projection at 30 meters,\n",
        "# then copying the bounds of the composite, from composite.projection().\n",
        "affine = [0.00026949458523585647, 0, -180, 0, -0.00026949458523585647, 86.0000269494563];\n",
        "\n",
        "# Perform the reduction, print the result.\n",
        "pprint(image.reduceRegion(**{\n",
        "  'reducer': ee.Reducer.mean(),\n",
        "  'geometry': gm,\n",
        "  'crs': 'EPSG:4326',\n",
        "  'crsTransform': affine,\n",
        "  'maxPixels': 1e9\n",
        "}).getInfo())"
      ]
    },
    {
      "cell_type": "markdown",
      "metadata": {
        "id": "TPsluyew0mKg"
      },
      "source": [
        "Em geral, especificar a escala é suficiente e resulta em um código mais legível. O Earth Engine determina quais pixels devem ser inseridos no redutor primeiro rasterizando a região. Se uma escala for especificada sem um CRS, a região será rasterizada na projeção nativa da imagem dimensionada para a resolução especificada. Se um CRS e uma escala forem especificados, a região será rasterizada com base neles. Os pixels estão “na” região se seu centroide estiver coberto pela região na escala e projeção especificadas.\n",
        "\n",
        "O parâmetro `maxPixels` é necessário para que a computação seja bem-sucedida. Se este parâmetro for deixado de fora do exemplo, um erro será retornado, algo como:\n",
        "\n",
        "\n",
        "\n",
        "```\n",
        "Dictionary (Error)\n",
        "  Image.reduceRegion: Too many pixels in the region. Found 527001545, but only 10000000 allowed.\n",
        "```\n",
        "\n",
        "\n",
        "Existem várias opções para superar esses erros: aumentar maxPixels, como no exemplo, aumentar a escala ou definir bestEffort como true, que calcula automaticamente uma nova escala (maior) de modo que maxPixels não seja excedido. Se você não especificar maxPixels, o valor padrão será usado."
      ]
    },
    {
      "cell_type": "markdown",
      "metadata": {
        "id": "F5-4Y7H02uDW"
      },
      "source": [
        "# 5. Estatísticas de vizinhanças de imagens\n",
        "\n",
        "Em vez de especificar uma região sobre a qual realizar uma redução, também é possível especificar uma vizinhança na qual aplicar um redutor. Para reduzir as vizinhanças da imagem, use `image.reduceNeighborhood()`. Neste caso, a redução ocorrerá em uma janela deslizante sobre a imagem de entrada, com o tamanho e formato da janela especificados por um `ee.Kernel`. A saída de `reduceNeighborhood()` será outra imagem, com cada valor de pixel representando a saída da redução em uma vizinhança ao redor daquele pixel na imagem de entrada. A Figura 3 ilustra esse tipo de redução.\n",
        "\n",
        "<center>\n",
        "<img src=\"https://developers.google.com/earth-engine/images/Reduce_Neighborhood.png\">  \n",
        "</center>  \n",
        "\n",
        "<center>\n",
        "Figure 3. Illustration of `reduceNeighborhood()`, where the reducer is applied in a kernel.\n",
        "</center>  \n",
        "\n",
        "Por exemplo, considere o uso de imagens do National Agriculture Imagery Program (NAIP) para quantificar as diferenças da paisagem resultantes da extração de madeira nas florestas de sequoias da Califórnia. Especificamente, use o desvio padrão (SD) em uma vizinhança para representar a diferença de textura entre a área explorada e a área protegida. Por exemplo, para obter a textura de uma imagem NAIP Normalized Difference Vegetation Index (NDVI), use reduceNeighborhood() para calcular SD em uma vizinhança definida por um kernel:\n",
        "\n"
      ]
    },
    {
      "cell_type": "code",
      "execution_count": null,
      "metadata": {
        "id": "w7YYqNYd4MqQ"
      },
      "outputs": [],
      "source": [
        "# # Define a region in the redwood forest.\n",
        "# redwoods = ee.Geometry.Rectangle(-124.0665, 41.0739, -123.934, 41.2029)\n",
        "\n",
        "# # Load input NAIP imagery and build a mosaic.\n",
        "# naipCollection = ee.ImageCollection('USDA/NAIP/DOQQ')\\\n",
        "#                    .filterBounds(redwoods)\\\n",
        "#                    .filterDate('2012-01-01', '2012-12-31')\n",
        "\n",
        "# naip = naipCollection.mosaic()\n",
        "\n",
        "# # Compute NDVI from the NAIP imagery.\n",
        "# naipNDVI = naip.normalizedDifference(['N', 'R'])\n",
        "\n",
        "# Compute standard deviation (SD) as texture of the NDVI.\n",
        "texture = image.reduceNeighborhood(**{\n",
        "  'reducer': ee.Reducer.stdDev(),\n",
        "  'kernel': ee.Kernel.circle(7),\n",
        "})\n",
        "\n",
        "# Display the results.\n",
        "\n",
        "# dicc ={'NAIP input imagery': naip.getMapId(),\n",
        "#        'NDVI': naipNDVI.getMapId({'min': -1, 'max': 1, 'palette': ['FF0000', '00FF00']}),\n",
        "#        'SD of NDVI':texture.getMapId({'min': 0, 'max': 0.3})}\n",
        "\n",
        "dicc = { 'SD of NDVI':texture.getMapId()}\n",
        "Mapdisplay(center,dicc,zoom_start=4)"
      ]
    },
    {
      "cell_type": "code",
      "source": [
        "print(texture.getMapId())"
      ],
      "metadata": {
        "id": "NMvc_XMmSKMa"
      },
      "execution_count": null,
      "outputs": []
    },
    {
      "cell_type": "markdown",
      "metadata": {
        "id": "a6P7dqMPGHYL"
      },
      "source": [
        "# 9. Reduções Agrupadas e Estatísticas Zonais\n",
        "\n",
        "Você pode obter estatísticas em cada zona de uma `Image` ou `FeatureCollection` usando `reducer.group()` para agrupar a saída de um redutor pelo valor de uma entrada especificada. Por exemplo, para calcular a população total e o número de unidades habitacionais em cada estado, este exemplo agrupa a saída de uma redução de um `FeatureCollection` dos condados da seguinte forma:\n",
        "\n",
        "\n"
      ]
    },
    {
      "cell_type": "code",
      "execution_count": null,
      "metadata": {
        "id": "aqr20ClRGUm_"
      },
      "outputs": [],
      "source": [
        "# Load a collection of US counties with census data properties.\n",
        "counties = ee.FeatureCollection('ft:1S4EB6319wWW2sWQDPhDvmSBIVrD3iEmCLYB7nMM')\n",
        "\n",
        "# Compute sums of the specified properties, grouped by state name.\n",
        "sums = counties.filter(ee.Filter.And(ee.Filter.neq('Census 2000 Population', None),\n",
        "                                     ee.Filter.neq('Census 2000 Housing Units', None)))\\\n",
        "               .reduceColumns(**{\n",
        "                  'selectors': ['Census 2000 Population', 'Census 2000 Housing Units', 'StateName'],\n",
        "                  'reducer': ee.Reducer.sum().repeat(2).group(**{\n",
        "                      'groupField': 2,\n",
        "                      'groupName': 'state'})})\n",
        "\n",
        "# Print the resultant Dictionary.\n",
        "pprint(sums.getInfo())"
      ]
    },
    {
      "cell_type": "markdown",
      "metadata": {
        "id": "QbiBeX3aHkgO"
      },
      "source": [
        "O argumento `groupField` é o índice da entrada no array seletores que contém os códigos pelos quais agrupar, o argumento `groupName` especifica o nome da propriedade para armazenar o valor da variável de agrupamento. Como o redutor não é repetido automaticamente para cada entrada, a chamada `repeat(2)` é necessária.\n",
        "\n",
        "Para agrupar a saída de `image.reduceRegions()` você pode especificar uma banda de agrupamento que define grupos por valores de pixel inteiros. Esse tipo de cálculo às vezes é chamado de \"estatística zonal\", onde as zonas são especificadas como a banda de agrupamento e a estatística é determinada pelo redutor. No exemplo a seguir, a mudança nas luzes noturnas nos Estados Unidos é agrupada por categoria de cobertura do solo:"
      ]
    },
    {
      "cell_type": "code",
      "execution_count": null,
      "metadata": {
        "id": "yskKEEfSHyHj"
      },
      "outputs": [],
      "source": [
        "# # Load a region representing the United States\n",
        "# region = ee.Feature(ee.FeatureCollection('ft:1tdSwUL7MVpOauSgRzqVTOwdfy17KDbw-1d9omPw')\\\n",
        "#                       .filter(ee.Filter.eq('Country', 'United States'))\\\n",
        "#                       .first())\n",
        "\n",
        "# # Load MODIS land cover categories in 2001.\n",
        "# landcover = ee.Image('MODIS/051/MCD12Q1/2001_01_01')\\\n",
        "#               .select('Land_Cover_Type_1') # Select the IGBP classification band.\n",
        "\n",
        "# # Load nightlights image inputs.\n",
        "# nl2001 = ee.Image('NOAA/DMSP-OLS/NIGHTTIME_LIGHTS/F152001')\\\n",
        "#            .select('stable_lights')\n",
        "\n",
        "# nl2012 = ee.Image('NOAA/DMSP-OLS/NIGHTTIME_LIGHTS/F182012')\\\n",
        "#            .select('stable_lights')\n",
        "\n",
        "# # Compute the nightlights decadal difference, add land cover codes.\n",
        "# nlDiff = nl2012.subtract(nl2001).addBands(landcover)\n",
        "\n",
        "# Grouped a mean reducer: change of nightlights by land cover category.\n",
        "means = image.reduceRegion(**{\n",
        "  'reducer': ee.Reducer.mean(),\n",
        "  'geometry': gm,\n",
        "  'scale': 30,\n",
        "  'maxPixels': 1e8\n",
        "});\n",
        "\n",
        "# Print the resultant Dictionary.\n",
        "pprint(means.getInfo())"
      ]
    },
    {
      "cell_type": "markdown",
      "metadata": {
        "id": "1oOg4NNLIU7Q"
      },
      "source": [
        "Observe que neste exemplo, o `groupField` é o índice da banda que contém as zonas pelas quais agrupar a saída. A primeira banda é o índice 0, a segunda é o índice 1, etc."
      ]
    },
    {
      "cell_type": "markdown",
      "metadata": {
        "id": "tLRnPAmoNKW-"
      },
      "source": [
        "# 10. Reduções ponderadas\n",
        "\n",
        "Por padrão, os redutores aplicados às imagens ponderam as entradas de acordo com o valor da máscara. Isso é relevante no contexto de pixels fracionários criados por meio de operações como `clip()`. Ajuste esse comportamento chamando `unweighted()` no redutor. O uso de um redutor não ponderado força todos os pixels na região a terem o mesmo peso. O exemplo a seguir ilustra como a ponderação do pixel pode afetar a saída do redutor:\n",
        "\n"
      ]
    },
    {
      "cell_type": "code",
      "execution_count": null,
      "metadata": {
        "id": "ta9risk8NRSm"
      },
      "outputs": [],
      "source": [
        "# Load a Landsat 8 input image.\n",
        "image = ee.Image('LANDSAT/LC08/C01/T1/LC08_044034_20140318')\n",
        "\n",
        "# Creat an arbitrary region.\n",
        "geometry = ee.Geometry.Rectangle(-122.496, 37.532, -121.554, 37.538)\n",
        "\n",
        "# Make an NDWI image.  It will have one band named 'nd'.\n",
        "ndwi = image.normalizedDifference(['B3', 'B5']);\n",
        "\n",
        "# Compute the weighted mean of the NDWI image clipped to the region.\n",
        "weighted = ndwi.clip(geometry)\\\n",
        "               .reduceRegion(**{'reducer': ee.Reducer.sum(),\n",
        "                              'geometry': geometry,\n",
        "                              'scale': 30})\\\n",
        "               .get('nd')\n",
        "\n",
        "# Compute the UN-weighted mean of the NDWI image clipped to the region.\n",
        "unweighted = ndwi.clip(geometry)\\\n",
        "                 .reduceRegion(**{'reducer': ee.Reducer.sum().unweighted(),\n",
        "                                'geometry': geometry,\n",
        "                                'scale': 30}).get('nd')\n",
        "\n",
        "# Observe the difference between weighted and unweighted reductions.\n",
        "print('weighted:', weighted.getInfo())\n",
        "print('unweighted', unweighted.getInfo())"
      ]
    },
    {
      "cell_type": "markdown",
      "metadata": {
        "id": "pc1OnlaXNv-K"
      },
      "source": [
        "\n",
        "A diferença nos resultados é devido aos pixels na borda da região que recebem um peso de um como resultado de chamar `unweighted()` no redutor. Para obter uma saída explicitamente ponderada, é preferível definir os pesos explicitamente com `splitWeights()` chamado no redutor.\n",
        "\n",
        "Um redutor modificado por `splitWeights()` recebe duas entradas, onde a segunda entrada é o peso. O exemplo a seguir ilustra `splitWeights()` calculando a média ponderada do Índice de Vegetação por Diferença Normalizada (NDVI) em uma região, com os pesos fornecidos pela pontuação da nuvem (quanto mais nublado, menor o peso):"
      ]
    },
    {
      "cell_type": "code",
      "execution_count": null,
      "metadata": {
        "id": "VyzRPM8rOfJx"
      },
      "outputs": [],
      "source": [
        "\n",
        "# Use a mean reducer.\n",
        "reducer = ee.Reducer.median()\n",
        "\n",
        "# Compute the unweighted mean.\n",
        "unweighted = image.reduceRegion(reducer, gm, 30)\n",
        "\n",
        "# compute mean weighted by cloudiness.\n",
        "weighted = image.reduceRegion(reducer, gm, 30);\n",
        "\n",
        "# Observe the difference as a result of weighting by cloudiness.\n",
        "print('unweighted:', unweighted.getInfo())\n",
        "print('weighted:', weighted.getInfo())"
      ]
    },
    {
      "cell_type": "markdown",
      "metadata": {
        "id": "U4xKLV0pOvZ7"
      },
      "source": [
        "Observe que cloudWeight precisa ser adicionado como uma banda antes de chamar reduceRegion(). O resultado indica que o NDVI médio estimado é maior em função da diminuição do peso dos pixels nublados.\n",
        "\n",
        "\n"
      ]
    },
    {
      "cell_type": "code",
      "source": [
        "imagem= ee.Image('projects/ee-alinephysics/assets/mapbiomas-brazil-collection-60-amazonialegal-2019')\n",
        "center =  [-2.145746, -59.004845]\n",
        "vizParams = {\n",
        "    'bands': 'classification_2019'\n",
        "        }\n",
        "\n",
        "dicc =  {'mapbiomas mosaic': imagem.getMapId()}\n",
        "\n",
        "Mapdisplay(center,dicc,zoom_start=4)"
      ],
      "metadata": {
        "id": "QqsrCahZ0nqe"
      },
      "execution_count": null,
      "outputs": []
    },
    {
      "cell_type": "markdown",
      "source": [
        "\n",
        "\n",
        "# Export Shapefile para Asset GEE"
      ],
      "metadata": {
        "id": "btaSbiaNlCED"
      }
    },
    {
      "cell_type": "markdown",
      "source": [
        " Conversão Shapefile e CSV to ee.FeaturedCollection"
      ],
      "metadata": {
        "id": "tXNlam4ajy54"
      }
    },
    {
      "cell_type": "code",
      "source": [
        "# From https://bikeshbade.com.np/tutorials/Detail/?title=Geo-pandas%20data%20frame%20to%20GEE%20feature%20collection%20using%20Python&code=13\n",
        "\n",
        "#Feature to EE\n",
        "def feature2ee(file):\n",
        "\n",
        "    #Exception handler\n",
        "    try:\n",
        "\n",
        "        #check if the file is shapefile or CSV\n",
        "        if file.endswith('.shp'):\n",
        "            gdf = gpd.read_file(file, encoding=\"utf-8\")\n",
        "            g = [i for i in gdf.geometry]\n",
        "            features=[]\n",
        "\n",
        "\n",
        "            #for Polygon geo data type\n",
        "            if (gdf.geom_type[0] == 'Polygon'):\n",
        "                for i in range(len(g)):\n",
        "                    g = [i for i in gdf.geometry]\n",
        "                    x,y = g[i].exterior.coords.xy\n",
        "                    cords = np.dstack((x,y)).tolist()\n",
        "\n",
        "                    g=ee.Geometry.Polygon(cords)\n",
        "                    feature = ee.Feature(g)\n",
        "                    features.append(feature)\n",
        "                print(\"done\")\n",
        "\n",
        "                ee_object = ee.FeatureCollection(features)\n",
        "\n",
        "                return ee_object\n",
        "\n",
        "\n",
        "            #for LineString geo data type\n",
        "            elif (gdf.geom_type[0] == 'LineString'):\n",
        "                for i in range(len(g)):\n",
        "                    g = [i for i in gdf.geometry]\n",
        "                    x,y = g[i].exterior.coords.xy\n",
        "                    cords = np.dstack((x,y)).tolist()\n",
        "                    double_list = reduce(lambda x,y: x+y, cords)\n",
        "\n",
        "                    g=ee.Geometry.LineString(double_list)\n",
        "                    feature = ee.Feature(g)\n",
        "                    features.append(feature)\n",
        "                print(\"done\")\n",
        "\n",
        "                ee_object = ee.FeatureCollection(features)\n",
        "\n",
        "                return ee_object\n",
        "\n",
        "\n",
        "            #for Point geo data type\n",
        "            elif (gdf.geom_type[0] == 'Point'):\n",
        "                for i in range(len(g)):\n",
        "                    g = [i for i in gdf.geometry]\n",
        "                    x,y = g[i].exterior.coords.xy\n",
        "                    cords = np.dstack((x,y)).tolist()\n",
        "                    double_list = reduce(lambda x,y: x+y, cords)\n",
        "                    single_list = reduce(lambda x,y: x+y, double_list)\n",
        "\n",
        "                    g=ee.Geometry.Point(single_list)\n",
        "                    feature = ee.Feature(g)\n",
        "                    features.append(feature)\n",
        "                print(\"done\")\n",
        "\n",
        "                ee_object = ee.FeatureCollection(features)\n",
        "\n",
        "                return ee_object\n",
        "\n",
        "\n",
        "        #check if the file is shapefile or CSV\n",
        "        #for CSV we need to have file with longitude and latitude\n",
        "        elif file.endswith('.csv'):\n",
        "            df = pd.read_csv(file)\n",
        "            features=[]\n",
        "            for i in range(df.shape[0]):\n",
        "                x,y = df.longitude[i],df.latitude[i]\n",
        "                latlong =[x,y]\n",
        "                g=ee.Geometry.Point(latlong)\n",
        "                feature = ee.Feature(g)\n",
        "                features.append(feature)\n",
        "            print(\"done\")\n",
        "\n",
        "            ee_object = ee.FeatureCollection(features)\n",
        "            return ee_object\n",
        "\n",
        "\n",
        "    except:\n",
        "\n",
        "        print(\"Wrong file format\")"
      ],
      "metadata": {
        "id": "ht-i7UDJjX5X"
      },
      "execution_count": null,
      "outputs": []
    },
    {
      "cell_type": "markdown",
      "source": [
        "Export Feature Collection"
      ],
      "metadata": {
        "id": "tEM66pcwlfcx"
      }
    },
    {
      "cell_type": "code",
      "source": [
        "# Export an ee.FeatureCollection as an Earth Engine asset.\n",
        "def do_upload_shapefile_to_asset(file_path_list):\n",
        "\n",
        "  for file_path in file_path_list:\n",
        "    # file_name = file_path[]\n",
        "    feature = feature2ee(file_path)\n",
        "\n",
        "    assetId = 'projects/ee-alinephysics/assets/SemanaVeraoOCO-2/' + filename\n",
        "\n",
        "    task = ee.batch.Export.table.toAsset(**{\n",
        "        'collection': feature,\n",
        "        'description': 'exportOcoDataToAssetPath',\n",
        "        'assetId': 'projects/ee-alinephysics/assets/SemanaVeraoOCO-2/'\n",
        "    })\n",
        "    task.start()\n",
        "\n",
        "    while task.active():\n",
        "      print('Polling for task (id: {}).'.format(task.id))\n",
        "      time.sleep(5)"
      ],
      "metadata": {
        "id": "oBibLD58b1i2"
      },
      "execution_count": null,
      "outputs": []
    },
    {
      "cell_type": "markdown",
      "source": [
        "# Alterações na pasta de Assets do Google Earth Engin e Extração de dados do Mapbiomas para cada ponto do dados de CO2 do OCO-2"
      ],
      "metadata": {
        "id": "sr868Rk9bRIA"
      }
    },
    {
      "cell_type": "code",
      "source": [
        "center =  [-2.145746, -59.004845]\n",
        "vizParams = {\n",
        "    'bands': 'classification_2019'\n",
        "        }\n",
        "\n",
        "dicc =  {'mapbiomas mosaic': mapbiomas.getMapId(vizParams)}\n",
        "\n",
        "Mapdisplay(center,dicc,zoom_start=4)"
      ],
      "metadata": {
        "id": "jHW7AvGu1UXv"
      },
      "execution_count": null,
      "outputs": []
    },
    {
      "cell_type": "code",
      "source": [
        "df = pd.read_csv('/content/drive/MyDrive/TESTE_MAPBIOMASOCO/MapBiomas-oco2-teste.csv')"
      ],
      "metadata": {
        "id": "SukWsXzQeh-m"
      },
      "execution_count": null,
      "outputs": []
    },
    {
      "cell_type": "code",
      "source": [
        "df.head()"
      ],
      "metadata": {
        "id": "_wqW5MGTQBhf"
      },
      "execution_count": null,
      "outputs": []
    },
    {
      "cell_type": "code",
      "source": [
        "df.columns"
      ],
      "metadata": {
        "id": "34vYOUIfU61y"
      },
      "execution_count": null,
      "outputs": []
    },
    {
      "cell_type": "code",
      "source": [
        "df = df.drop(columns=['system:index', '.geo'])"
      ],
      "metadata": {
        "id": "IHJyHm1_VU0e"
      },
      "execution_count": null,
      "outputs": []
    },
    {
      "cell_type": "markdown",
      "source": [
        "    -- Pegar os arquivos CSV de um dia chuvoso\n",
        "    -- Transformar o arquivo CSV em um arquivo SHP\n",
        "    -- Salvar em assets no GEE\n",
        "\n",
        "    -- Fazer uma função que com a lista de paths no asset, acessa cada path, realiza a junção com os dados do mapbiomas da classificacao de 2019 e salva o arquivo CSV de cada data.\n",
        "\n",
        "    --Depois cria outra função que realizar a junção dos csvs de cada dia."
      ],
      "metadata": {
        "id": "mVQX3whrp1by"
      }
    },
    {
      "cell_type": "code",
      "source": [
        "path_files_oco2_inv = get_list_csv_files('/content/drive/MyDrive/Dados_OCO-2/csv/Inverno2019')"
      ],
      "metadata": {
        "id": "fxv07KHrXM0T"
      },
      "execution_count": null,
      "outputs": []
    },
    {
      "cell_type": "code",
      "source": [
        "path_files_oco2_inv[0][51:57]"
      ],
      "metadata": {
        "id": "JWzozV0Qpfma"
      },
      "execution_count": null,
      "outputs": []
    },
    {
      "cell_type": "markdown",
      "source": [
        "##Listagem de Assets"
      ],
      "metadata": {
        "id": "NjY6eaZN5DEr"
      }
    },
    {
      "cell_type": "code",
      "source": [
        "import ee\n",
        "ee.Initialize()\n",
        "\n",
        "def get_asset_list(parent):\n",
        "    parent_asset = ee.data.getAsset(parent)\n",
        "    parent_id = parent_asset['name']\n",
        "    parent_type = parent_asset['type']\n",
        "    asset_list = []\n",
        "    child_assets = ee.data.listAssets({'parent': parent_id})['assets']\n",
        "    for child_asset in child_assets:\n",
        "        child_id = child_asset['name']\n",
        "        child_type = child_asset['type']\n",
        "        if child_type in ['FOLDER','IMAGE_COLLECTION']:\n",
        "            # Recursively call the function to get child assets\n",
        "            asset_list.extend(get_asset_list(child_id))\n",
        "        else:\n",
        "            asset_list.append(child_id)\n",
        "    return asset_list\n",
        "\n",
        "all_assets = get_asset_list('projects/ee-alinephysics/assets/')\n",
        "\n",
        "print('Found {} assets'.format(len(all_assets)))"
      ],
      "metadata": {
        "id": "Q5xDEJwJRIVV"
      },
      "execution_count": null,
      "outputs": []
    },
    {
      "cell_type": "code",
      "source": [
        "# assets_for_delete_2 = [\n",
        "#  'projects/ee-alinephysics/assets/oco2_L2StdND_38524a_210928_B10206r_211113182109', 'projects/ee-alinephysics/assets/teste/teste1']"
      ],
      "metadata": {
        "id": "7Rkf56IC9Wft"
      },
      "execution_count": null,
      "outputs": []
    },
    {
      "cell_type": "code",
      "source": [
        "all_assets"
      ],
      "metadata": {
        "id": "UWiTvmOBp0SD"
      },
      "execution_count": null,
      "outputs": []
    },
    {
      "cell_type": "markdown",
      "source": [
        "### Extração de Classes de Mapbiomas"
      ],
      "metadata": {
        "id": "Fxm7gBTO5FdW"
      }
    },
    {
      "cell_type": "code",
      "source": [
        "import time\n",
        "\n",
        "def extract_mapbiomas_class_for_regions(asset, year, shapefile):\n",
        "\n",
        "  # asset ='projects/mapbiomas-workspace/public/collection6/mapbiomas_collection60_integration_v1'\n",
        "\n",
        "  # Define the year of your interest\n",
        "  # year = 2019;\n",
        "\n",
        "  gm = ee.FeatureCollection(shapefile)\n",
        "  name = shapefile.rsplit('/', -1)\n",
        "  name = name[-1]\n",
        "\n",
        "  mapbiomas = ee.Image(asset).clip(gm)\n",
        "\n",
        "  reducer = ee.Reducer.median()\n",
        "\n",
        "  # maineMeansFeatures = image.reduceRegions(**{\n",
        "  #   'collection': gm,\n",
        "  #   'reducer': ee.Reducer.mean(),\n",
        "  #   'scale': 30,\n",
        "  # })\n",
        "\n",
        "  reduced = mapbiomas.reduceRegions(**{\n",
        "    'collection': gm,\n",
        "    'reducer': reducer,\n",
        "    'scale': 100000,\n",
        "    'tileScale': 1\n",
        "  });\n",
        "\n",
        "  print(reduced)\n",
        "  print(name)\n",
        "  print(type(name))\n",
        "  filename = 'oco2-mapbiomas-inverno-' + name\n",
        "\n",
        "  task = ee.batch.Export.table.toDrive(**{\n",
        "      'collection': reduced,\n",
        "      'description': 'DadosOCO-2_Mapbiomas-inverno' + filename,\n",
        "      'folder': 'oco-2_mapbiomas/inverno-2015a2021',\n",
        "      'fileNamePrefix': filename,\n",
        "      'fileFormat': 'CSV'\n",
        "  })\n",
        "  task.start()\n",
        "\n",
        "  while task.active():\n",
        "    print('Polling for task (id: {}).'.format(task.id))\n",
        "    time.sleep(5)\n",
        "\n",
        "\n",
        "  # task = ee.batch.Export.imageluscogna/.toDrive(**{\n",
        "  #     'collection': reduced,\n",
        "  #     'description': 'DadosOCO-2_Mapbiomas-Chuva',\n",
        "  #     'folder': 'TESTE_MAPBIOMASOCO',\n",
        "  #     'fileNamePrefix': 'MapBiomas-oco2-teste',\n",
        "  #     'fileFormat': 'CSV'\n",
        "  # })\n",
        "  # task.start()\n",
        "\n",
        "  # while task.active():\n",
        "  #   print('Polling for task (id: {}).'.format(task.id))\n",
        "  #   time.sleep(5)\n"
      ],
      "metadata": {
        "id": "ePr98nW6bX9r"
      },
      "execution_count": null,
      "outputs": []
    },
    {
      "cell_type": "code",
      "source": [
        "# for shapefile in all_assets:\n",
        "shapefile = 'projects/ee-alinephysics/assets/Grid_Amazonia_Legal_100km'\n",
        "asset ='projects/mapbiomas-workspace/public/collection6/mapbiomas_collection60_integration_v1'\n",
        "year = 2019\n",
        "extract_mapbiomas_class_for_regions(asset, year, shapefile)\n"
      ],
      "metadata": {
        "id": "bwbm5NJ9FOT6"
      },
      "execution_count": null,
      "outputs": []
    },
    {
      "cell_type": "markdown",
      "source": [
        "## Mudando assets de local\n",
        "\n"
      ],
      "metadata": {
        "id": "YIXNNPua4xCb"
      }
    },
    {
      "cell_type": "code",
      "source": [
        "import argparse\n",
        "import ee\n",
        "\n",
        "parser = argparse.ArgumentParser()\n",
        "parser.add_argument('--old_collection', help='old collection')\n",
        "parser.add_argument('--new_collection', help='new collection')\n",
        "parser.add_argument('--delete', help='delete old collection',\n",
        "    action=argparse.BooleanOptionalAction)\n",
        "\n",
        "# args = parser.parse_args()\n",
        "\n",
        "old_collection = old_collection\n",
        "new_collection = new_collection\n",
        "\n",
        "ee.Initialize()\n",
        "\n",
        "# Check if new collection exists\n",
        "try:\n",
        "    ee.ImageCollection(new_collection).getInfo()\n",
        "except:\n",
        "    print('Collection {} does not exist'.format(new_collection))\n",
        "    ee.data.createAsset({'type': ee.data.ASSET_TYPE_IMAGE_COLL}, new_collection)\n",
        "    print('Created a new empty collection {}.'.format(new_collection))\n",
        "\n",
        "\n",
        "assets = ee.data.listAssets({'parent': old_collection})['assets']\n",
        "\n",
        "\n",
        "for asset in assets:\n",
        "    old_name = asset['name']\n",
        "    new_name = old_name.replace(old_collection, new_collection)\n",
        "    print('Copying {} to {}'.format(old_name, new_name))\n",
        "    ee.data.copyAsset(old_name, new_name, True)\n",
        "    if args.delete:\n",
        "        print('Deleting <{}>'.format(old_name))\n",
        "        ee.data.deleteAsset(old_name)\n",
        "\n",
        "if args.delete:\n",
        "    print('Deleting Collection <{}>'.format(old_collection))\n",
        "    ee.data.deleteAsset(old_collection)"
      ],
      "metadata": {
        "id": "uijBV00pp0B8"
      },
      "execution_count": null,
      "outputs": []
    },
    {
      "cell_type": "markdown",
      "source": [
        "##Exclusão de Assets"
      ],
      "metadata": {
        "id": "ooqO4jW-4mrg"
      }
    },
    {
      "cell_type": "code",
      "source": [
        "ee.data.deleteAsset('projects/ee-alinephysics/assets/bdgeodata/20082019')"
      ],
      "metadata": {
        "id": "IxsbUaNPTAvb"
      },
      "execution_count": null,
      "outputs": []
    },
    {
      "cell_type": "code",
      "source": [
        "for asset in assets_for_delete_2:\n",
        "  ee.data.deleteAsset(asset)"
      ],
      "metadata": {
        "id": "OPV_k0QbT4kB"
      },
      "execution_count": null,
      "outputs": []
    },
    {
      "cell_type": "code",
      "source": [
        "# \"projects/ee-alinephysics/assets/bdgeodata/\""
      ],
      "metadata": {
        "id": "Hw2mCXBamsek"
      },
      "execution_count": null,
      "outputs": []
    },
    {
      "cell_type": "markdown",
      "source": [
        "##Criação de shapefile e Salva em Assets"
      ],
      "metadata": {
        "id": "uiJH7gIE4bAz"
      }
    },
    {
      "cell_type": "code",
      "source": [
        "import ee\n",
        "import os\n",
        "import geemap\n",
        "import pandas as pd\n",
        "import geopandas as gpd\n",
        "\n",
        "\n",
        "def create_geodataframe_and_save_in_assets(df, path_name, asset_name):\n",
        "  # create a tmp gdf\n",
        "  gdf = gpd.GeoDataFrame(\n",
        "      df,\n",
        "      crs='EPSG:4326',\n",
        "      geometry = gpd.points_from_xy(\n",
        "          df['longitude'],\n",
        "          df['latitude']\n",
        "      )\n",
        "  )\n",
        "\n",
        "  # convert it into geo-json\n",
        "  json_df = json.loads(gdf.to_json())\n",
        "\n",
        "  # create a gee object with geemap\n",
        "  ee_object = geemap.geojson_to_ee(json_df)\n",
        "\n",
        "  # upload this object to earthengine\n",
        "  asset = os.path.join(path_name, asset_name)\n",
        "\n",
        "  #create and launch the task\n",
        "  task_config = {\n",
        "      'collection': ee_object,\n",
        "      'description':asset_name,\n",
        "      'assetId': asset\n",
        "  }\n",
        "  task = ee.batch.Export.table.toAsset(**task_config)\n",
        "  task.start()\n",
        "  return \"Success\""
      ],
      "metadata": {
        "id": "CFxixoEXUKSN"
      },
      "execution_count": null,
      "outputs": []
    },
    {
      "cell_type": "code",
      "source": [
        "def save_object_in_asset(path):\n",
        "  for path_file in path_files_oco2_inv:\n",
        "    if '0106a3109' not in path_file:\n",
        "      asset_name = path_file[51:57]\n",
        "      print(asset_name)\n",
        "      dataframe = pd.read_csv(path_file)\n",
        "      create_geodataframe_and_save_in_assets(dataframe, path, asset_name)\n",
        "  return \"Ok\""
      ],
      "metadata": {
        "id": "1sB842h5m4Sm"
      },
      "execution_count": null,
      "outputs": []
    },
    {
      "cell_type": "code",
      "source": [
        "path_inv = 'projects/ee-alinephysics/assets/bdgeodata/'\n",
        "save_object_in_asset(path_inv)"
      ],
      "metadata": {
        "id": "5v3ymQDapLPP"
      },
      "execution_count": null,
      "outputs": []
    },
    {
      "cell_type": "code",
      "source": [
        "lista_bioma_shp = ['projects/ee-alinephysics/assets/grid_1_Bioma_Amazon_0-25deg',\n",
        " 'projects/ee-alinephysics/assets/grid_2_Bioma_Amazon_0-25deg',\n",
        " 'projects/ee-alinephysics/assets/grid_3_Bioma_Amazon_0-25deg',\n",
        " 'projects/ee-alinephysics/assets/grid_4_Bioma_Amazon_0-25deg']"
      ],
      "metadata": {
        "id": "usNlHUxqCcaz"
      },
      "execution_count": null,
      "outputs": []
    },
    {
      "cell_type": "code",
      "source": [
        "import ee\n",
        "import geemap\n",
        "\n",
        "# Inicializar a API GEE\n",
        "ee.Initialize()\n",
        "\n",
        "# Carregar o shapefile\n",
        "shapefile = ee.FeatureCollection('projects/ee-alinephysics/assets/grid_1_Bioma_Amazon_0-25deg')\n",
        "\n",
        "# Definir a região de interesse com base no shapefile\n",
        "region = shapefile.geometry().bounds()\n",
        "\n",
        "# Definir uma resolução espacial de 0,25°\n",
        "scale = 926.62543305555556  # 0,25° em metros (1° = 111320m)\n",
        "\n",
        "# Função para adicionar os dados da imagem à feição do shapefile\n",
        "def addDataToFeature(feature):\n",
        "    feature = ee.Feature(feature)\n",
        "    feature = feature.set(image.reduceRegion(\n",
        "        reducer=ee.Reducer.mean(),\n",
        "        geometry=feature.geometry(),\n",
        "        scale=scale\n",
        "    ))\n",
        "    return feature\n",
        "\n",
        "# Carregar a coleção de imagens MODIS\n",
        "collection = ee.ImageCollection('MODIS/006/MOD13A1').filterBounds(region)\n",
        "\n",
        "# Filtrar as imagens dentro de um período específico (opcional)\n",
        "start_date = ee.Date('2022-01-01')\n",
        "end_date = ee.Date('2022-12-31')\n",
        "collection = collection.filterDate(start_date, end_date)\n",
        "\n",
        "# Reduzir as imagens para uma única imagem usando a média\n",
        "image = collection.mean()\n",
        "\n",
        "# Mapear a função addDataToFeature sobre cada feição do shapefile\n",
        "output = shapefile.map(addDataToFeature)\n",
        "\n",
        "# Exportar o resultado para um arquivo CSV\n",
        "geemap.extract_values_to_points(output, 'output.csv')\n"
      ],
      "metadata": {
        "id": "_jXAppviMbej"
      },
      "execution_count": null,
      "outputs": []
    },
    {
      "cell_type": "markdown",
      "source": [
        "# Extração dos dados de Precipitação Imerg\n",
        "ee.ImageCollection(\"NASA/GPM_L3/IMERG_V06\")"
      ],
      "metadata": {
        "id": "B3gKuzztY-dk"
      }
    },
    {
      "cell_type": "code",
      "source": [
        "\n",
        "# Define the year of your interest\n",
        "year = 2019;\n",
        "gm = ee.FeatureCollection(\n",
        "  'projects/ee-alinephysics/assets/amaz190823')\n",
        "\n",
        "mapbiomas = ee.ImageCollection(\"NASA/GPM_L3/IMERG_V06\").clip(gm)\n",
        "\n",
        "reducer = ee.Reducer.median()\n",
        "\n",
        "# maineMeansFeatures = image.reduceRegions(**{\n",
        "#   'collection': gm,\n",
        "#   'reducer': ee.Reducer.mean(),\n",
        "#   'scale': 30,\n",
        "# })\n",
        "\n",
        "reduced = mapbiomas.reduceRegions(**{\n",
        "  'collection': gm,\n",
        "  'reducer': reducer,\n",
        "  'scale': 30,\n",
        "  'tileScale': 1\n",
        "});\n",
        "\n",
        "print(reduced)\n",
        "\n",
        "# task = ee.batch.Export.table.toDrive(**{\n",
        "#     'collection': reduced,\n",
        "#     'description': 'DadosOCO-2_Mapbiomas-Chuva',\n",
        "#     'folder': 'TESTE_MAPBIOMASOCO',\n",
        "#     'fileNamePrefix': 'MapBiomas-oco2-teste',\n",
        "#     'fileFormat': 'CSV'\n",
        "# })\n",
        "# task.start()\n",
        "\n",
        "# while task.active():\n",
        "#   print('Polling for task (id: {}).'.format(task.id))\n",
        "#   time.sleep(5)\n",
        "\n",
        "\n",
        "# task = ee.batch.Export.imageluscogna/.toDrive(**{\n",
        "#     'collection': reduced,\n",
        "#     'description': 'DadosOCO-2_Mapbiomas-Chuva',\n",
        "#     'folder': 'TESTE_MAPBIOMASOCO',\n",
        "#     'fileNamePrefix': 'MapBiomas-oco2-teste',\n",
        "#     'fileFormat': 'CSV'\n",
        "# })\n",
        "# task.start()\n",
        "\n",
        "# while task.active():\n",
        "#   print('Polling for task (id: {}).'.format(task.id))\n",
        "#   time.sleep(5)\n"
      ],
      "metadata": {
        "id": "Rb6fZCETkLKL"
      },
      "execution_count": null,
      "outputs": []
    },
    {
      "cell_type": "code",
      "source": [
        "oco2_map = pd.read_csv('/content/oco2-mapbiomas-inverno-Grid_Amazonia_Legal_100km.csv')"
      ],
      "metadata": {
        "id": "Ruhf0fSj3o8o"
      },
      "execution_count": null,
      "outputs": []
    },
    {
      "cell_type": "code",
      "source": [
        "oco2_map.head(5)"
      ],
      "metadata": {
        "id": "0cHoLedT30xo"
      },
      "execution_count": null,
      "outputs": []
    },
    {
      "cell_type": "markdown",
      "metadata": {
        "id": "08i3HIBCi1Q9"
      },
      "source": [
        "#Download dos dados do GEE para assets e drive"
      ]
    },
    {
      "cell_type": "code",
      "execution_count": null,
      "metadata": {
        "id": "y4SFf_a9i02z"
      },
      "outputs": [],
      "source": [
        "def get_image_for_band_and_clip(image, geometry):\n",
        "  image_clipped =  image.clip(geometry).copy_properties(image, [\"system:time_start\"])\n",
        "  return image_clipped\n",
        "\n",
        "def get_terra_climate_collection(path, start_date, end_date, geometry):\n",
        "  mosaic = ee.ImageCollection(path).filter(ee.Filter.date(start_date, end_date)).filter(ee.Filter.bounds(geometry)).map(get_image_for_band_and_clip).mosaic()\n",
        "  return mosaic\n",
        "\n",
        "def get_terra_climate_image(path, geometry):\n",
        "  image = ee.Image(path).clip(geometry)\n",
        "  return image\n",
        "\n",
        "def create_list_of_years():\n",
        "  years = []\n",
        "  initial_year = 2020\n",
        "  final_year = 2021\n",
        "  for year in range(initial_year, final_year):\n",
        "    years.append(str(year))\n",
        "  return years\n",
        "\n",
        "def create_list_of_months():\n",
        "  months = []\n",
        "  for month in range(1,13):\n",
        "    month_st = str(month)\n",
        "    if month < 10:\n",
        "      month_st = '0' + month_st\n",
        "    months.append(month_st)\n",
        "  return months\n",
        "\n",
        "def get_terra_climate_image_month_years(years, months):\n",
        "  base_path = 'IDAHO_EPSCOR/TERRACLIMATE/'\n",
        "  ym_list = []\n",
        "  for year in years:\n",
        "    for month in months:\n",
        "      ym_list.append(base_path + year + month)\n",
        "  return ym_list\n",
        "\n",
        "def export_image_to_drive(mosaic, description, folder_name, scale, geometry):\n",
        "  task_config = {\n",
        "      'image': mosaic,\n",
        "      'description': description,\n",
        "      'folder': folder_name,\n",
        "      'scale': scale,\n",
        "      'region': geometry.geometry(),\n",
        "      'crs': 'EPSG:4674',\n",
        "      'fileFormat': 'GeoTIFF'\n",
        "  }\n",
        "  task = ee.batch.Export.image.toDrive(**task_config)\n",
        "  task.start()\n",
        "\n",
        "def export_image_to_asset(image, file_name, asset, scale, geometry):\n",
        "  task_config = {\n",
        "      'assetId': asset,\n",
        "      'image': image,\n",
        "      'description': file_name,\n",
        "      'scale': scale,\n",
        "      'region': geometry.geometry(),\n",
        "      'crs': 'EPSG:4674'\n",
        "  }\n",
        "  task = ee.batch.Export.image.toAsset(**task_config)\n",
        "  task.start()\n",
        "\n",
        "\n",
        "def create_filename(initial_path):\n",
        "  year_path = initial_path[26:]\n",
        "  folder_path = 'projects/ee-alinephysics/assets/terraclimate-mt/image/'\n",
        "  final_path = folder_path + year_path\n",
        "  return final_path, year_path\n",
        "\n",
        "def get_month_year_and_download_image_to_asset(years, months, geometry):\n",
        "  path_list = get_terra_climate_image_month_years(years, months)\n",
        "\n",
        "  for path in path_list:\n",
        "    image = get_terra_climate_image(path, geometry)\n",
        "    asset, file_name = create_filename(path)\n",
        "    scale = 4638.3\n",
        "    export_image_to_asset(image, file_name, asset, scale, geometry)\n",
        "\n",
        "def get_month_year_and_download_image_to_drive(years, months, geometry):\n",
        "  path_list = get_terra_climate_image_month_years(years, months)\n",
        "\n",
        "  for path in path_list:\n",
        "    image = get_terra_climate_image(path, geometry)\n",
        "    asset, file_name = create_filename(path)\n",
        "    folder_name = 'terraclimate-mt'\n",
        "    scale = 4638.3\n",
        "    export_image_to_drive(image, file_name, folder_name, scale, geometry)"
      ]
    },
    {
      "cell_type": "code",
      "execution_count": null,
      "metadata": {
        "id": "i1lBv9ly_VHS"
      },
      "outputs": [],
      "source": [
        "years = create_list_of_years()\n",
        "months = create_list_of_months()\n",
        "\n",
        "geometry = ee.FeatureCollection('projects/ee-alinephysics/assets/terraclimate-mt/MT_UF_2021')\n",
        "\n",
        "get_month_year_and_download_image_to_asset(years, months, geometry)"
      ]
    },
    {
      "cell_type": "code",
      "execution_count": null,
      "metadata": {
        "id": "u3m-PWHNFAWN"
      },
      "outputs": [],
      "source": [
        "years = create_list_of_years()\n",
        "months = create_list_of_months()\n",
        "\n",
        "geometry = ee.FeatureCollection('projects/ee-alinephysics/assets/terraclimate-mt/MT_UF_2021')\n",
        "\n",
        "get_month_year_and_download_image_to_drive(years, months, geometry)"
      ]
    },
    {
      "cell_type": "markdown",
      "source": [
        "### MODIS"
      ],
      "metadata": {
        "id": "JEWNu53miTnO"
      }
    },
    {
      "cell_type": "code",
      "source": [
        "import time\n",
        "\n",
        "def extract_modis_data_lai_for_grid(asset, shapefile):\n",
        "\n",
        "  # asset ='projects/mapbiomas-workspace/public/collection6/mapbiomas_collection60_integration_v1'\n",
        "\n",
        "  # Define the year of your interest\n",
        "  # year = 2019;\n",
        "\n",
        "  gm = ee.FeatureCollection(shapefile)\n",
        "\n",
        "  modis_data = ee.Image(asset).clip(gm)\n",
        "\n",
        "  reducer = ee.Reducer.mean()\n",
        "\n",
        "  # maineMeansFeatures = image.reduceRegions(**{\n",
        "  #   'collection': gm,\n",
        "  #   'reducer': ee.Reducer.mean(),\n",
        "  #   'scale': 30,\n",
        "  # })\n",
        "\n",
        "  reduced = modis_data.reduceRegions(**{\n",
        "    'collection': gm,\n",
        "    'reducer': reducer,\n",
        "    'scale': 100000,\n",
        "    'tileScale': 1\n",
        "  });\n",
        "\n",
        "  print(reduced)\n",
        "\n",
        "  filename = 'modis-100km-lai-fpar' + asset[19:30]\n",
        "\n",
        "  task = ee.batch.Export.table.toDrive(**{\n",
        "      'collection': reduced,\n",
        "      'description': filename,\n",
        "      'folder': 'MODIS',\n",
        "      'fileNamePrefix': filename,\n",
        "      'fileFormat': 'CSV'\n",
        "  })\n",
        "  task.start()\n",
        "\n",
        "  while task.active():\n",
        "    print('Polling for task (id: {}).'.format(task.id))\n",
        "    time.sleep(5)\n",
        "\n",
        "\n",
        "  # task = ee.batch.Export.imageluscogna/.toDrive(**{\n",
        "  #     'collection': reduced,\n",
        "  #     'description': 'DadosOCO-2_Mapbiomas-Chuva',\n",
        "  #     'folder': 'TESTE_MAPBIOMASOCO',\n",
        "  #     'fileNamePrefix': 'MapBiomas-oco2-teste',\n",
        "  #     'fileFormat': 'CSV'\n",
        "  # })\n",
        "  # task.start()\n",
        "\n",
        "  # while task.active():\n",
        "  #   print('Polling for task (id: {}).'.format(task.id))\n",
        "  #   time.sleep(5)"
      ],
      "metadata": {
        "id": "O-6Pq7ajh8Lv"
      },
      "execution_count": null,
      "outputs": []
    },
    {
      "cell_type": "code",
      "source": [
        "lai_data = ['MODIS/061/MOD15A2H/2015_08_05'\n",
        ",'MODIS/061/MOD15A2H/2015_08_13','MODIS/061/MOD15A2H/2015_08_21','MODIS/061/MOD15A2H/2015_08_29','MODIS/061/MOD15A2H/2015_09_06','MODIS/061/MOD15A2H/2015_09_14','MODIS/061/MOD15A2H/2015_09_22','MODIS/061/MOD15A2H/2015_09_30','MODIS/061/MOD15A2H/2016_08_04','MODIS/061/MOD15A2H/2016_08_12','MODIS/061/MOD15A2H/2016_08_20','MODIS/061/MOD15A2H/2016_08_28','MODIS/061/MOD15A2H/2016_09_05','MODIS/061/MOD15A2H/2016_09_13','MODIS/061/MOD15A2H/2016_09_21','MODIS/061/MOD15A2H/2016_09_29','MODIS/061/MOD15A2H/2017_07_28','MODIS/061/MOD15A2H/2017_08_05','MODIS/061/MOD15A2H/2017_08_13','MODIS/061/MOD15A2H/2017_08_21','MODIS/061/MOD15A2H/2017_08_29','MODIS/061/MOD15A2H/2017_09_06','MODIS/061/MOD15A2H/2017_09_14','MODIS/061/MOD15A2H/2017_09_22','MODIS/061/MOD15A2H/2017_09_30','MODIS/061/MOD15A2H/2018_07_28','MODIS/061/MOD15A2H/2018_08_05','MODIS/061/MOD15A2H/2018_08_13','MODIS/061/MOD15A2H/2018_08_21','MODIS/061/MOD15A2H/2018_08_29','MODIS/061/MOD15A2H/2018_09_06','MODIS/061/MOD15A2H/2018_09_14','MODIS/061/MOD15A2H/2018_09_22','MODIS/061/MOD15A2H/2018_09_30','MODIS/061/MOD15A2H/2019_07_28','MODIS/061/MOD15A2H/2019_08_05','MODIS/061/MOD15A2H/2019_08_13','MODIS/061/MOD15A2H/2019_08_21','MODIS/061/MOD15A2H/2019_08_29','MODIS/061/MOD15A2H/2019_09_06','MODIS/061/MOD15A2H/2019_09_14','MODIS/061/MOD15A2H/2019_09_22','MODIS/061/MOD15A2H/2019_09_30','MODIS/061/MOD15A2H/2020_07_27','MODIS/061/MOD15A2H/2020_08_04','MODIS/061/MOD15A2H/2020_08_12','MODIS/061/MOD15A2H/2020_08_20','MODIS/061/MOD15A2H/2020_08_28','MODIS/061/MOD15A2H/2020_09_05','MODIS/061/MOD15A2H/2020_09_13','MODIS/061/MOD15A2H/2020_09_21','MODIS/061/MOD15A2H/2020_09_29','MODIS/061/MOD15A2H/2021_07_28','MODIS/061/MOD15A2H/2021_08_05','MODIS/061/MOD15A2H/2021_08_13','MODIS/061/MOD15A2H/2021_08_21','MODIS/061/MOD15A2H/2021_08_29','MODIS/061/MOD15A2H/2021_09_06','MODIS/061/MOD15A2H/2021_09_14','MODIS/061/MOD15A2H/2021_09_22','MODIS/061/MOD15A2H/2021_09_30']"
      ],
      "metadata": {
        "id": "-gpMLMakIrfj"
      },
      "execution_count": null,
      "outputs": []
    },
    {
      "cell_type": "code",
      "source": [
        "shapefile = 'projects/ee-alinephysics/assets/Grid_Amazonia_Legal_100km'\n",
        "\n",
        "for asset in lai_data:\n",
        "  extract_modis_data_lai_for_grid(asset, shapefile)"
      ],
      "metadata": {
        "id": "htP8L6TuicGB"
      },
      "execution_count": null,
      "outputs": []
    },
    {
      "cell_type": "code",
      "source": [
        "lai_data[0][19:30]"
      ],
      "metadata": {
        "id": "ALfEHI2VMJYD"
      },
      "execution_count": null,
      "outputs": []
    },
    {
      "cell_type": "code",
      "source": [
        "veg_data[0][18:30]"
      ],
      "metadata": {
        "id": "KGpe_Ml4aggS"
      },
      "execution_count": null,
      "outputs": []
    },
    {
      "cell_type": "code",
      "source": [
        "import time\n",
        "\n",
        "def extract_modis_data_for_grid(asset, shapefile):\n",
        "\n",
        "  # asset ='projects/mapbiomas-workspace/public/collection6/mapbiomas_collection60_integration_v1'\n",
        "\n",
        "  # Define the year of your interest\n",
        "  # year = 2019;\n",
        "\n",
        "  gm = ee.FeatureCollection(shapefile)\n",
        "\n",
        "  modis_data = ee.Image(asset).clip(gm)\n",
        "\n",
        "  reducer = ee.Reducer.mean()\n",
        "\n",
        "  # maineMeansFeatures = image.reduceRegions(**{\n",
        "  #   'collection': gm,\n",
        "  #   'reducer': ee.Reducer.mean(),\n",
        "  #   'scale': 30,\n",
        "  # })\n",
        "\n",
        "  reduced = modis_data.reduceRegions(**{\n",
        "    'collection': gm,\n",
        "    'reducer': reducer,\n",
        "    'scale': 100000,\n",
        "    'tileScale': 1\n",
        "  });\n",
        "\n",
        "  print(reduced)\n",
        "\n",
        "  filename = 'modis-100km-evi-ndvi' + asset[18:30]\n",
        "\n",
        "  task = ee.batch.Export.table.toDrive(**{\n",
        "      'collection': reduced,\n",
        "      'description': filename,\n",
        "      'folder': 'MODIS/',\n",
        "      'fileNamePrefix': filename,\n",
        "      'fileFormat': 'CSV'\n",
        "  })\n",
        "  task.start()\n",
        "\n",
        "  while task.active():\n",
        "    print('Polling for task (id: {}).'.format(task.id))\n",
        "    time.sleep(5)\n",
        "\n",
        "\n",
        "  # task = ee.batch.Export.imageluscogna/.toDrive(**{\n",
        "  #     'collection': reduced,\n",
        "  #     'description': 'DadosOCO-2_Mapbiomas-Chuva',\n",
        "  #     'folder': 'TESTE_MAPBIOMASOCO',\n",
        "  #     'fileNamePrefix': 'MapBiomas-oco2-teste',\n",
        "  #     'fileFormat': 'CSV'\n",
        "  # })\n",
        "  # task.start()\n",
        "\n",
        "  # while task.active():\n",
        "  #   print('Polling for task (id: {}).'.format(task.id))\n",
        "  #   time.sleep(5)"
      ],
      "metadata": {
        "id": "dSYxGbOdLtb0"
      },
      "execution_count": null,
      "outputs": []
    },
    {
      "cell_type": "code",
      "source": [
        "veg_data = ['MODIS/061/MOD13A1/2015_07_28','MODIS/061/MOD13A1/2015_08_13','MODIS/061/MOD13A1/2015_08_29','MODIS/061/MOD13A1/2015_09_14','MODIS/061/MOD13A1/2015_09_30','MODIS/061/MOD13A1/2015_10_16',\n",
        "\n",
        "'MODIS/061/MOD13A1/2016_08_12','MODIS/061/MOD13A1/2016_08_28','MODIS/061/MOD13A1/2016_09_13','MODIS/061/MOD13A1/2016_09_29',\n",
        "\n",
        "'MODIS/061/MOD13A1/2017_07_28','MODIS/061/MOD13A1/2017_08_13','MODIS/061/MOD13A1/2017_08_29','MODIS/061/MOD13A1/2017_09_14','MODIS/061/MOD13A1/2017_09_30',\n",
        "\n",
        "'MODIS/061/MOD13A1/2018_07_28','MODIS/061/MOD13A1/2018_08_13','MODIS/061/MOD13A1/2018_08_29','MODIS/061/MOD13A1/2018_09_14','MODIS/061/MOD13A1/2018_09_30',\n",
        "\n",
        "'MODIS/061/MOD13A1/2019_07_28','MODIS/061/MOD13A1/2019_08_13','MODIS/061/MOD13A1/2019_08_29','MODIS/061/MOD13A1/2019_09_14','MODIS/061/MOD13A1/2019_09_30',\n",
        "\n",
        "'MODIS/061/MOD13A1/2020_07_27','MODIS/061/MOD13A1/2020_08_12','MODIS/061/MOD13A1/2020_08_28','MODIS/061/MOD13A1/2020_09_13','MODIS/061/MOD13A1/2020_09_29',\n",
        "\n",
        "'MODIS/061/MOD13A1/2021_07_28','MODIS/061/MOD13A1/2021_08_13','MODIS/061/MOD13A1/2021_08_29','MODIS/061/MOD13A1/2021_09_14','MODIS/061/MOD13A1/2021_09_30']"
      ],
      "metadata": {
        "id": "isbvWYX_ZXPl"
      },
      "execution_count": null,
      "outputs": []
    },
    {
      "cell_type": "code",
      "source": [
        "shapefile = 'projects/ee-alinephysics/assets/Grid_Amazonia_Legal_100km'\n",
        "\n",
        "for asset in veg_data:\n",
        "  print(asset)\n",
        "  extract_modis_data_for_grid(asset, shapefile)"
      ],
      "metadata": {
        "id": "INiY8TuKaZXE"
      },
      "execution_count": null,
      "outputs": []
    },
    {
      "cell_type": "code",
      "source": [
        "def create_date_modis_reflectance():\n",
        "  dates = []\n",
        "  for year in ['2015','2016','2017','2018','2019','2020','2021']:\n",
        "    for month in ['08','09']:\n",
        "      for day in range(1,32):\n",
        "        if day < 10:\n",
        "          date = year + '_' + month + '_0' + str(day)\n",
        "          dates.append(date)\n",
        "        else:\n",
        "          date = year + '_' + month + '_' + str(day)\n",
        "          dates.append(date)\n",
        "  return dates"
      ],
      "metadata": {
        "id": "ANdyhugSdYYS"
      },
      "execution_count": null,
      "outputs": []
    },
    {
      "cell_type": "code",
      "source": [
        "dates = create_date_modis_reflectance()"
      ],
      "metadata": {
        "id": "qaqsuMu1fqof"
      },
      "execution_count": null,
      "outputs": []
    },
    {
      "cell_type": "code",
      "source": [
        "dates[0:5]"
      ],
      "metadata": {
        "id": "1yG0ZIBrfutp"
      },
      "execution_count": null,
      "outputs": []
    },
    {
      "cell_type": "code",
      "source": [],
      "metadata": {
        "id": "YcA_pdA1fwfN"
      },
      "execution_count": null,
      "outputs": []
    },
    {
      "cell_type": "code",
      "source": [
        "import time\n",
        "\n",
        "def extract_modis_data_reflectance_for_grid(asset, shapefile):\n",
        "\n",
        "\n",
        "  gm = ee.FeatureCollection(shapefile)\n",
        "\n",
        "  modis_data = ee.Image(asset).clip(gm)\n",
        "\n",
        "  reducer = ee.Reducer.mean()\n",
        "\n",
        "  # maineMeansFeatures = image.reduceRegions(**{\n",
        "  #   'collection': gm,\n",
        "  #   'reducer': ee.Reducer.mean(),\n",
        "  #   'scale': 30,\n",
        "  # })\n",
        "\n",
        "  reduced = modis_data.reduceRegions(**{\n",
        "    'collection': gm,\n",
        "    'reducer': reducer,\n",
        "    'scale': 100000,\n",
        "    'tileScale': 1\n",
        "  });\n",
        "\n",
        "  print(reduced)\n",
        "\n",
        "  filename = 'modis-100km-reflectance' + asset[17:34]\n",
        "\n",
        "  task = ee.batch.Export.table.toDrive(**{\n",
        "      'collection': reduced,\n",
        "      'description': 'modisreflectance',\n",
        "      'folder': 'MODISReflectance',\n",
        "      'fileNamePrefix': filename,\n",
        "      'fileFormat': 'CSV'\n",
        "  })\n",
        "  task.start()\n",
        "\n",
        "  while task.active():\n",
        "    print('Polling for task (id: {}).'.format(task.id))\n",
        "    time.sleep(5)\n",
        "\n",
        "\n",
        "  # task = ee.batch.Export.imageluscogna/.toDrive(**{\n",
        "  #     'collection': reduced,\n",
        "  #     'description': 'DadosOCO-2_Mapbiomas-Chuva',\n",
        "  #     'folder': 'TESTE_MAPBIOMASOCO',\n",
        "  #     'fileNamePrefix': 'MapBiomas-oco2-teste',\n",
        "  #     'fileFormat': 'CSV'\n",
        "  # })\n",
        "  # task.start()\n",
        "\n",
        "  # while task.active():\n",
        "  #   print('Polling for task (id: {}).'.format(task.id))\n",
        "  #   time.sleep(5)"
      ],
      "metadata": {
        "id": "f_VdiukHgV9l"
      },
      "execution_count": null,
      "outputs": []
    },
    {
      "cell_type": "code",
      "source": [
        "asset[17:34]"
      ],
      "metadata": {
        "id": "ziluUWUXgvg1"
      },
      "execution_count": null,
      "outputs": []
    },
    {
      "cell_type": "code",
      "source": [
        "shapefile = 'projects/ee-alinephysics/assets/Grid_Amazonia_Legal_100km'\n",
        "\n",
        "for date in dates:\n",
        "  asset = 'MODIS/006/MCD43A4/' + date\n",
        "  extract_modis_data_reflectance_for_grid(asset, shapefile)"
      ],
      "metadata": {
        "id": "te77LlzFgcvc"
      },
      "execution_count": null,
      "outputs": []
    },
    {
      "cell_type": "markdown",
      "source": [
        "# Download MODIS e ERA5 data para célula de Km67"
      ],
      "metadata": {
        "id": "M6oLyCZ4yn-J"
      }
    },
    {
      "cell_type": "code",
      "source": [
        "pip install geopandas"
      ],
      "metadata": {
        "id": "c-QaOkx57oxf"
      },
      "execution_count": null,
      "outputs": []
    },
    {
      "cell_type": "code",
      "source": [
        "# Importar bibliotecas\n",
        "import ee\n",
        "import geopandas as gpd\n",
        "import pandas as pd\n",
        "from google.colab import drive\n",
        "\n",
        "# Autenticação no Google Earth Engine\n",
        "ee.Authenticate()\n",
        "ee.Initialize()"
      ],
      "metadata": {
        "id": "nph6mBk07WeM"
      },
      "execution_count": null,
      "outputs": []
    },
    {
      "cell_type": "code",
      "source": [
        "grade_asset = ee.FeatureCollection('projects/ee-alinephysics/assets/grid_cells_Bioma_Amazon_025deg')\n",
        "grade_asset"
      ],
      "metadata": {
        "id": "1kV6WeSS8-yi"
      },
      "execution_count": null,
      "outputs": []
    },
    {
      "cell_type": "code",
      "source": [
        "# Salvar o dataframe de resultados como CSV\n",
        "df_resultado.to_csv('resultado.csv', index=False)\n",
        "\n",
        "# Montar o drive do Google para salvar o arquivo CSV\n",
        "drive.mount('/content/drive')\n",
        "\n",
        "# Salvar o arquivo CSV no drive\n",
        "!cp resultado.csv \"/content/drive/My Drive/\""
      ],
      "metadata": {
        "id": "JVZuB9Bx7NZ2"
      },
      "execution_count": null,
      "outputs": []
    },
    {
      "cell_type": "code",
      "source": [
        "bioma_1 = gpd.read_file('/content/drive/MyDrive/bioma-amazonia/bioma_amazonia_0.25deg/grid_1_Bioma_Amazon_0.25deg.shp')\n",
        "bioma_1.head(4)"
      ],
      "metadata": {
        "id": "qrhG7LDgJluO"
      },
      "execution_count": null,
      "outputs": []
    },
    {
      "cell_type": "code",
      "source": [
        "# Salvar o dataframe de resultados como CSV\n",
        "df_resultado.to_csv('resultado.csv', index=False)\n",
        "\n",
        "# Montar o drive do Google para salvar o arquivo CSV\n",
        "drive.mount('/content/drive')\n",
        "\n",
        "# Salvar o arquivo CSV no drive\n",
        "!cp resultado.csv \"/content/drive/My Drive/\""
      ],
      "metadata": {
        "id": "-fW_4M48Kl7S"
      },
      "execution_count": null,
      "outputs": []
    },
    {
      "cell_type": "code",
      "source": [
        "test_modis = pd.read_csv('/content/drive/MyDrive/bioma_amazonia_modis_test/MODIS_061_LAI_FPAR_100km_2015.csv')\n",
        "test_modis.head()"
      ],
      "metadata": {
        "id": "JF0oR5bsP2y7"
      },
      "execution_count": null,
      "outputs": []
    },
    {
      "cell_type": "markdown",
      "source": [
        "#Extract MODIS e ERA5 data\n"
      ],
      "metadata": {
        "id": "CCftv1FNfyua"
      }
    },
    {
      "cell_type": "code",
      "source": [
        "[\"dewpoint_temperature_2m\",\"temperature_2m\",\"skin_temperature\",\"soil_temperature_level_1\",\"soil_temperature_level_2\",\"soil_temperature_level_3\",\"soil_temperature_level_4\",\"lake_bottom_temperature\",\"lake_ice_depth\",\"lake_ice_temperature\",\n",
        "\"lake_mix_layer_depth\",\n",
        "\"lake_mix_layer_temperature\",\n",
        "\"lake_shape_factor\",\n",
        "\"lake_total_layer_temperature\",\n",
        "\"volumetric_soil_water_layer_1\",\n",
        "\"volumetric_soil_water_layer_2\",\n",
        "\"volumetric_soil_water_layer_3\",\n",
        "\"volumetric_soil_water_layer_4\",\n",
        "\"forecast_albedo\",\n",
        "\"surface_latent_heat_flux_sum\",\n",
        "\"surface_net_solar_radiation_sum\",\n",
        "\"surface_net_thermal_radiation_sum\",\n",
        "\"surface_sensible_heat_flux_sum\",\n",
        "\"surface_solar_radiation_downwards_sum\",\n",
        "\"surface_thermal_radiation_downwards_sum\",\n",
        "\"evaporation_from_bare_soil_sum\",\n",
        "\"evaporation_from_open_water_surfaces_excluding_oceans_sum\",\n",
        "\"evaporation_from_the_top_of_canopy_sum\",\n",
        "\"evaporation_from_vegetation_transpiration_sum\",\n",
        "\"potential_evaporation_sum\",\n",
        "\"runoff_sum\",\n",
        "\"snow_evaporation_sum\",\n",
        "\"sub_surface_runoff_sum\",\n",
        "\"surface_runoff_sum\",\n",
        "\"total_evaporation_sum\",\n",
        "\"u_component_of_wind_10m\",\n",
        "\"v_component_of_wind_10m\",\n",
        "\"surface_pressure\",\n",
        "\"total_precipitation_sum\",\n",
        "\"leaf_area_index_high_vegetation\",\n",
        "\"leaf_area_index_low_vegetation\"]"
      ],
      "metadata": {
        "id": "9rE4BFdaP4t9"
      },
      "execution_count": null,
      "outputs": []
    },
    {
      "cell_type": "code",
      "source": [
        "\"dewpoint_temperature_2m\",\"temperature_2m\",\"skin_temperature\",\"soil_temperature_level_1\",\"soil_temperature_level_2\",\"soil_temperature_level_3\",\"soil_temperature_level_4\", \"volumetric_soil_water_layer_1\",  \"volumetric_soil_water_layer_2\",\n",
        "\"volumetric_soil_water_layer_3\",  \"volumetric_soil_water_layer_4\",\"evaporation_from_bare_soil_sum\",  \"evaporation_from_open_water_surfaces_excluding_oceans_sum\",  \"evaporation_from_the_top_of_canopy_sum\",  \"evaporation_from_vegetation_transpiration_sum\",  \"potential_evaporation_sum\",  \"runoff_sum\",  \"snow_evaporation_sum\",  \"sub_surface_runoff_sum\",  \"surface_runoff_sum\",  \"total_evaporation_sum\", \"surface_pressure\",  \"total_precipitation_sum\",  \"leaf_area_index_high_vegetation\",  \"leaf_area_index_low_vegetation\",  \"dewpoint_temperature_2m_min\",  \"dewpoint_temperature_2m_max\",  \"temperature_2m_min\",  \"temperature_2m_max\",  \"skin_temperature_min\",  \"skin_temperature_max\",  \"soil_temperature_level_1_min\",\n",
        "\"soil_temperature_level_1_max\",  \"soil_temperature_level_2_min\",  \"soil_temperature_level_2_max\",  \"soil_temperature_level_3_min\",  \"soil_temperature_level_3_max\",  \"soil_temperature_level_4_min\",  \"soil_temperature_level_4_max\", \"volumetric_soil_water_layer_1_min\",  \"volumetric_soil_water_layer_1_max\",  \"volumetric_soil_water_layer_2_min\",\n",
        "\"volumetric_soil_water_layer_2_max\",\"volumetric_soil_water_layer_3_min\",\"volumetric_soil_water_layer_3_max\",\"volumetric_soil_water_layer_4_min\",\"volumetric_soil_water_layer_4_max\",\"evaporation_from_bare_soil_min\",\"evaporation_from_bare_soil_max\",\"evaporation_from_open_water_surfaces_excluding_oceans_min\",\"evaporation_from_open_water_surfaces_excluding_oceans_max\",\"evaporation_from_the_top_of_canopy_min\",\"evaporation_from_the_top_of_canopy_max\",\"evaporation_from_vegetation_transpiration_min\",\"evaporation_from_vegetation_transpiration_max\",\"potential_evaporation_min\",\"potential_evaporation_max\", \"surface_pressure_min\",  \"surface_pressure_max\",\"total_precipitation_min\",\"total_precipitation_max\",\"leaf_area_index_high_vegetation_min\",\"leaf_area_index_high_vegetation_max\",\"leaf_area_index_low_vegetation_min\", \"leaf_area_index_low_vegetation_max\"]"
      ],
      "metadata": {
        "id": "2-qexP8mgDW0"
      },
      "execution_count": null,
      "outputs": []
    },
    {
      "cell_type": "code",
      "source": [
        "\"dewpoint_temperature_2m\",\"temperature_2m\",\"skin_temperature\",\"soil_temperature_level_1\",\"soil_temperature_level_2\",\"soil_temperature_level_3\",\"soil_temperature_level_4\", \"volumetric_soil_water_layer_1\",  \"volumetric_soil_water_layer_2\",\n",
        "\"volumetric_soil_water_layer_3\",  \"volumetric_soil_water_layer_4\",\"evaporation_from_bare_soil_sum\",  \"evaporation_from_open_water_surfaces_excluding_oceans_sum\",  \"evaporation_from_the_top_of_canopy_sum\",  \"evaporation_from_vegetation_transpiration_sum\",  \"potential_evaporation_sum\",  \"runoff_sum\",  \"snow_evaporation_sum\",  \"sub_surface_runoff_sum\",  \"surface_runoff_sum\",  \"total_evaporation_sum\", \"surface_pressure\",  \"total_precipitation_sum\",  \"leaf_area_index_high_vegetation\",  \"leaf_area_index_low_vegetation\",  \"dewpoint_temperature_2m_min\",  \"dewpoint_temperature_2m_max\",  \"temperature_2m_min\",  \"temperature_2m_max\",  \"skin_temperature_min\",  \"skin_temperature_max\",  \"soil_temperature_level_1_min\",\n",
        "\"soil_temperature_level_1_max\",  \"soil_temperature_level_2_min\",  \"soil_temperature_level_2_max\",  \"soil_temperature_level_3_min\",  \"soil_temperature_level_3_max\",  \"soil_temperature_level_4_min\",  \"soil_temperature_level_4_max\", \"volumetric_soil_water_layer_1_min\",  \"volumetric_soil_water_layer_1_max\",  \"volumetric_soil_water_layer_2_min\",\n",
        "\"volumetric_soil_water_layer_2_max\",\"volumetric_soil_water_layer_3_min\",\"volumetric_soil_water_layer_3_max\",\"volumetric_soil_water_layer_4_min\",\"volumetric_soil_water_layer_4_max\",\"evaporation_from_bare_soil_min\",\"evaporation_from_bare_soil_max\",\"evaporation_from_open_water_surfaces_excluding_oceans_min\",\"evaporation_from_open_water_surfaces_excluding_oceans_max\",\"evaporation_from_the_top_of_canopy_min\",\"evaporation_from_the_top_of_canopy_max\",\"evaporation_from_vegetation_transpiration_min\",\"evaporation_from_vegetation_transpiration_max\",\"potential_evaporation_min\",\"potential_evaporation_max\", \"surface_pre]"
      ],
      "metadata": {
        "id": "ixBc0h69PDwo"
      },
      "execution_count": null,
      "outputs": []
    },
    {
      "cell_type": "code",
      "source": [
        "\"dewpoint_temperature_2m\",\"temperature_2m\",\"skin_temperature\",\"soil_temperature_level_1\",\"soil_temperature_level_2\",\"soil_temperature_level_3\",\"soil_temperature_level_4\", \"volumetric_soil_water_layer_1\",  \"volumetric_soil_water_layer_2\",\n",
        "\"volumetric_soil_water_layer_3\",  \"volumetric_soil_water_layer_4\",\"evaporation_from_bare_soil_sum\",  \"evaporation_from_open_water_surfaces_excluding_oceans_sum\",  \"evaporation_from_the_top_of_canopy_sum\",  \"evaporation_from_vegetation_transpiration_sum\",  \"potential_evaporation_sum\",  \"runoff_sum\", \"total_evaporation_sum\", \"surface_pressure\",  \"total_precipitation_sum\",  \"leaf_area_index_high_vegetation\",  \"leaf_area_index_low_vegetation\",  \"dewpoint_temperature_2m_min\",  \"dewpoint_temperature_2m_max\",  \"temperature_2m_min\",  \"temperature_2m_max\", \"volumetric_soil_water_layer_1_min\",  \"volumetric_soil_water_layer_1_max\",\"evaporation_from_the_top_of_canopy_min\",\"evaporation_from_the_top_of_canopy_max\",\"evaporation_from_vegetation_transpiration_min\",\"evaporation_from_vegetation_transpiration_max\", \"surface_pressure_min\",\"total_precipitation_max\",\"leaf_area_index_high_vegetation_min\",\"leaf_area_index_high_vegetation_max\",\"leaf_area_index_low_vegetation_min\", \"leaf_area_index_low_vegetation_max\"]"
      ],
      "metadata": {
        "id": "bXz8uNGyMs4K"
      },
      "execution_count": null,
      "outputs": []
    },
    {
      "cell_type": "code",
      "source": [
        "pip install cdsapi"
      ],
      "metadata": {
        "id": "wu2nOiLrLbri"
      },
      "execution_count": null,
      "outputs": []
    },
    {
      "cell_type": "code",
      "source": [
        "#!/usr/bin/env python\n",
        "\n",
        "import cdsapi\n",
        "\n",
        "c = cdsapi.Client()\n",
        "\n",
        "c.retrieve(\n",
        "    'reanalysis-era5-pressure-levels',\n",
        "    {\n",
        "        'product_type': 'reanalysis',\n",
        "        'variable': 'temperature',\n",
        "        'pressure_level': '1000',\n",
        "        'year': '2008',\n",
        "        'month': '01',\n",
        "        'day': '01',\n",
        "        'time': '12:00',\n",
        "        'format': 'netcdf',                 # Supported format: grib and netcdf. Default: grib\n",
        "    },\n",
        "    'download.nc')                          # Output file. Adapt as you wish."
      ],
      "metadata": {
        "id": "9ckbOyMJLa3f"
      },
      "execution_count": null,
      "outputs": []
    },
    {
      "cell_type": "code",
      "source": [
        "function clipToCol(image) {\n",
        "  return image.clip(table);\n",
        "}\n",
        "\n",
        "var collection = ee.ImageCollection(\"ECMWF/ERA5/DAILY\")\n",
        "                  .filterDate('2002-01-01', '2012-01-01')\n",
        "                  .map(clipToCol).mosaic();\n",
        "\n",
        "print(collection)\n",
        "\n",
        "var colorizedVis = {\n",
        "  min: 0,\n",
        "  max: 100,\n",
        "  palette: [\n",
        "    'FFFFFF', 'CE7E45', 'DF923D', 'F1B555', 'FCD163', '99B718', '74A901',\n",
        "    '66A000', '529400', '3E8601', '207401', '056201', '004C00', '023B01',\n",
        "    '012E01', '011D01', '011301'\n",
        "  ],\n",
        "};\n",
        "\n",
        "Map.setCenter(-58.371867748863146, -6.36, 2);\n",
        "Map.addLayer(collection.select(\"dewpoint_temperature_2m\"), colorizedVis, 'mean_2m_air_temperature');\n",
        "\n",
        "var reducer = ee.Reducer.mean()\n",
        "\n",
        "var reduced = collection.reduceRegions({\n",
        "  collection: table,\n",
        "  reducer: reducer,\n",
        "  scale: 926.62543305555556,\n",
        "  tileScale: 1\n",
        "});\n",
        "\n",
        "// print(reduced)\n",
        "\n",
        "\n",
        "Export.table.toDrive({\n",
        "    collection: reduced,\n",
        "    description: 'bioma_amazonia_era5_gee',\n",
        "    folder: 'bioma_amazonia_era5_gee',\n",
        "    fileNamePrefix: 'grid1_bioma_amazonia_era5_gee_2002-2012_0-25degree',\n",
        "    fileFormat: 'CSV'\n",
        "})\n",
        "\n",
        "\n",
        "function clipToCol1(image) {\n",
        "  return image.clip(table2);\n",
        "}\n",
        "\n",
        "var collection1 = ee.ImageCollection(\"ECMWF/ERA5/DAILY\")\n",
        "                  .filterDate('2002-01-01', '2012-01-01')\n",
        "                  .map(clipToCol1).mosaic();\n",
        "\n",
        "print(collection1)\n",
        "\n",
        "var colorizedVis = {\n",
        "  min: 0,\n",
        "  max: 100,\n",
        "  palette: [\n",
        "    'FFFFFF', 'CE7E45', 'DF923D', 'F1B555', 'FCD163', '99B718', '74A901',\n",
        "    '66A000', '529400', '3E8601', '207401', '056201', '004C00', '023B01',\n",
        "    '012E01', '011D01', '011301'\n",
        "  ],\n",
        "};\n",
        "\n",
        "\n",
        "var reducer = ee.Reducer.mean()\n",
        "\n",
        "var reduced1 = collection1.reduceRegions({\n",
        "  collection: table2,\n",
        "  reducer: reducer,\n",
        "  scale: 926.62543305555556,\n",
        "  tileScale: 1\n",
        "});\n",
        "\n",
        "// print(reduced1)\n",
        "\n",
        "\n",
        "Export.table.toDrive({\n",
        "    collection: reduced1,\n",
        "    description: 'bioma_amazonia_era5_gee',\n",
        "    folder: 'bioma_amazonia_era5_gee',\n",
        "    fileNamePrefix: 'grid2_bioma_amazonia_era5_gee_2002-2012_0-25degree',\n",
        "    fileFormat: 'CSV'\n",
        "})\n",
        "\n",
        "\n",
        "function clipToCol2(image) {\n",
        "  return image.clip(table3);\n",
        "}\n",
        "\n",
        "var collection2 = ee.ImageCollection(\"ECMWF/ERA5/DAILY\")\n",
        "                  .filterDate('2002-07-04', '2012-01-01')\n",
        "                  .map(clipToCol2).mosaic();\n",
        "\n",
        "print(collection2)\n",
        "\n",
        "var colorizedVis = {\n",
        "  min: 0,\n",
        "  max: 100,\n",
        "  palette: [\n",
        "    'FFFFFF', 'CE7E45', 'DF923D', 'F1B555', 'FCD163', '99B718', '74A901',\n",
        "    '66A000', '529400', '3E8601', '207401', '056201', '004C00', '023B01',\n",
        "    '012E01', '011D01', '011301'\n",
        "  ],\n",
        "};\n",
        "\n",
        "var reducer = ee.Reducer.mean()\n",
        "\n",
        "var reduced2 = collection2.reduceRegions({\n",
        "  collection: table3,\n",
        "  reducer: reducer,\n",
        "  scale: 926.62543305555556,\n",
        "  tileScale: 1\n",
        "});\n",
        "\n",
        "// print(reduced2)\n",
        "\n",
        "\n",
        "Export.table.toDrive({\n",
        "    collection: reduced2,\n",
        "    description: 'bioma_amazonia_era5_gee',\n",
        "    folder: 'bioma_amazonia_era5_gee',\n",
        "    fileNamePrefix: 'grid3_bioma_amazonia_era5_gee_2002-2012_0-25degree',\n",
        "    fileFormat: 'CSV'\n",
        "})\n",
        "\n",
        "\n",
        "\n",
        "function clipToCol3(image) {\n",
        "  return image.clip(table4);\n",
        "}\n",
        "\n",
        "var collection3 = ee.ImageCollection(\"ECMWF/ERA5/DAILY\")\n",
        "                  .filterDate('2002-01-01', '2012-01-01')\n",
        "                  .map(clipToCol3).mosaic();\n",
        "\n",
        "print(collection3)\n",
        "\n",
        "var colorizedVis = {\n",
        "  min: 0,\n",
        "  max: 100,\n",
        "  palette: [\n",
        "    'FFFFFF', 'CE7E45', 'DF923D', 'F1B555', 'FCD163', '99B718', '74A901',\n",
        "    '66A000', '529400', '3E8601', '207401', '056201', '004C00', '023B01',\n",
        "    '012E01', '011D01', '011301'\n",
        "  ],\n",
        "};\n",
        "\n",
        "var reducer = ee.Reducer.mean()\n",
        "\n",
        "var reduced3 = collection3.reduceRegions({\n",
        "  collection: table4,\n",
        "  reducer: reducer,\n",
        "  scale: 926.62543305555556,\n",
        "  tileScale: 1\n",
        "});\n",
        "\n",
        "// print(reduced3)\n",
        "\n",
        "\n",
        "Export.table.toDrive({\n",
        "    collection: reduced3,\n",
        "    description: 'bioma_amazonia_era5',\n",
        "    folder: 'bioma_amazonia_era5_gee',\n",
        "    fileNamePrefix: 'grid4_bioma_amazonia_era5_gee_2002-2012_0-25degree',\n",
        "    fileFormat: 'CSV'\n",
        "})\n"
      ],
      "metadata": {
        "id": "4x7BaecIROnY"
      },
      "execution_count": null,
      "outputs": []
    }
  ]
}